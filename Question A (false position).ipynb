{
 "cells": [
  {
   "cell_type": "code",
   "execution_count": 88,
   "metadata": {},
   "outputs": [],
   "source": [
    "import numpy as np\n",
    "\n",
    "def ln(x, M):\n",
    "    return np.log(x) - M\n",
    "\n",
    "def false_position(M):\n",
    "    i = 1\n",
    "    while True:\n",
    "        if(np.log(i) < M): i += 1\n",
    "        else: break\n",
    "    xu = i - 1\n",
    "    xl = i\n",
    "    xr = xu\n",
    "    ea = 100\n",
    "    es = (0.5 * 10**-2)\n",
    "    while ea > es:\n",
    "        prev_xr = xr\n",
    "        xr = xu - ln(xu, M)*((xu - xl)/(ln(xu, M) - ln(xl, M)))\n",
    "        if ln(xr, 5) == 0: break\n",
    "        elif ln(xl, M)*ln(xr, M) < 0:\n",
    "            xu = xr\n",
    "        else: xl = xr\n",
    "        ea = (xr - prev_xr)/xr * 100\n",
    "        ea = abs(ea)\n",
    "    return xr"
   ]
  },
  {
   "cell_type": "code",
   "execution_count": 90,
   "metadata": {},
   "outputs": [
    {
     "name": "stdout",
     "output_type": "stream",
     "text": [
      "20.08553693196927\n"
     ]
    }
   ],
   "source": [
    "print(false_position(3))"
   ]
  },
  {
   "cell_type": "markdown",
   "metadata": {},
   "source": [
    "# How to use this code\n",
    "\n",
    "This code contains a function called \"false_position\", in which it receives an integer and returns a floating number back.\n",
    "Thus, in order to use the function, the user has to input an integer, which is the number M in e<sup>M</sup>.\n",
    "And the function will return the value of e<sup>M</sup> by using false position method to calculate.\n",
    "\n",
    "example:\n",
    "```python\n",
    "answer = false_position(3)\n",
    "print(answer)\n",
    "```"
   ]
  },
  {
   "cell_type": "code",
   "execution_count": null,
   "metadata": {},
   "outputs": [],
   "source": []
  }
 ],
 "metadata": {
  "kernelspec": {
   "display_name": "Python 3",
   "language": "python",
   "name": "python3"
  },
  "language_info": {
   "codemirror_mode": {
    "name": "ipython",
    "version": 3
   },
   "file_extension": ".py",
   "mimetype": "text/x-python",
   "name": "python",
   "nbconvert_exporter": "python",
   "pygments_lexer": "ipython3",
   "version": "3.7.0"
  }
 },
 "nbformat": 4,
 "nbformat_minor": 2
}
