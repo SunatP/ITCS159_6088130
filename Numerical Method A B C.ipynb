{
 "cells": [
  {
   "cell_type": "markdown",
   "metadata": {},
   "source": [
    "# A False Position method \n",
    " -------------------------------------------------------------------------------------------\n",
    "  ## How to run This Program \n",
    "   ![Jupyter](https://cdn-images-1.medium.com/max/1600/1*LPnY8nOLg4S6_TG0DEXwsg.png) \n",
    "  * Need Jupyter Notebook or Install Anaconda Python\n",
    "  * Copy this File into locate C:\\Users\\Name of user in PC\n",
    "  * Open Jupyter Notebook and run this file\n",
    "  * Click Run or Press Shift + Enter to process \n"
   ]
  },
  {
   "cell_type": "code",
   "execution_count": 1,
   "metadata": {},
   "outputs": [
    {
     "name": "stdout",
     "output_type": "stream",
     "text": [
      "Enter value : 3\n",
      "Value of Xl is  20\n",
      "Value of Xu is  21\n",
      "Value of Error significant is  47.0\n",
      "Value of Es is  0.05\n",
      "Value of Ea is  4.542776725018565\n",
      "Value of Ea is  0.009608884844831606\n",
      "Value or Xr is : 20.085541044399335\n"
     ]
    }
   ],
   "source": [
    " # A find interval\n",
    "from math import * \n",
    "import numpy as np\n",
    "def ln(x, M):\n",
    "    return np.log(x) - M\n",
    "\n",
    "\n",
    "def false_si_postition(M):\n",
    "    i = 1\n",
    "    while True:\n",
    "        if(np.log(i) < M): i += 1\n",
    "        else: \n",
    "            break\n",
    "    xl = i - 1\n",
    "    print(\"Value of Xl is \",xl)\n",
    "    xu = i\n",
    "    print(\"Value of Xu is \",xu)\n",
    "    xr = xu\n",
    "    ea = 100\n",
    "    es = (0.5 * pow(10,2-M))\n",
    "    errsig = (0.5 * 10**2-M)\n",
    "    print(\"Value of Error significant is \" , errsig)\n",
    "    print(\"Value of Es is \" , es)\n",
    "    while ea > es:\n",
    "        prev_xr = xr\n",
    "        xr = xu - ln(xu, M)*((xu - xl)/(ln(xu, M) - ln(xl, M)))\n",
    "        if ln(xr, 5) == 0: break\n",
    "        elif ln(xl, M)*ln(xr, M) < 0:\n",
    "            xu = xr\n",
    "        else: xl = xr\n",
    "        ea = (xr - prev_xr)/xr * 100\n",
    "        ea = abs(ea)\n",
    "        print(\"Value of Ea is \" , ea)\n",
    "    return xr\n",
    "    \n",
    "a = float(input(\"Enter value : \"))\n",
    "if(a<0):print(\"error\")\n",
    "else:print(f\"Value or Xr is : {false_si_postition(a)}\" ) "
   ]
  },
  {
   "cell_type": "markdown",
   "metadata": {},
   "source": [
    "# B 2.1 Golden Section Search(GSS) to find the value of x at the local minimum\n",
    " -------------------------------------------------------------------------------------------\n",
    "  ## How to run This Program \n",
    "   ![Jupyter](https://cdn-images-1.medium.com/max/1600/1*LPnY8nOLg4S6_TG0DEXwsg.png) \n",
    "  * Need Jupyter Notebook or Install Anaconda Python\n",
    "  * Copy this File into locate C:\\Users\\Name of user in PC\n",
    "  * Open Jupyter Notebook and run this file\n",
    "  * Click Run or Press Shift + Enter to process \n"
   ]
  },
  {
   "cell_type": "code",
   "execution_count": 2,
   "metadata": {},
   "outputs": [
    {
     "name": "stdout",
     "output_type": "stream",
     "text": [
      "Minimum Value of f(x) is :  3.9148498369237834\n"
     ]
    }
   ],
   "source": [
    "import math\n",
    "invphi = (math.sqrt(5) - 1) / 2 # 1/phi                                                                                                                     \n",
    "invphi2 = (3 - math.sqrt(5)) / 2 # 1/phi^2                                                                                                                  \n",
    "\n",
    "def gssrec(f,a,b,tol=1e-5,h=None,c=None,d=None,fc=None,fd=None):\n",
    " \n",
    "    (a,b)=(min(a,b),max(a,b))\n",
    "    if h == None: h=b-a\n",
    "    if h <= tol: return (a,b)\n",
    "    if c == None: c = a + invphi2*h\n",
    "    if d == None: d = a + invphi*h\n",
    "    if fc == None: fc = f(c)\n",
    "    if fd == None: fd = f(d)\n",
    "    if fc < fd:\n",
    "        return gssrec(f,a,d,tol,h*invphi,c=None,fc=None,d=c,fd=fc)\n",
    "    else:\n",
    "        return gssrec(f,c,b,tol,h*invphi,c=d,fc=fd,d=None,fd=None)\n",
    "\n",
    "\n",
    "f = lambda x: pow(x,3)-(3*pow(x,2))-9*x+18;\n",
    "a = 0\n",
    "b = 5\n",
    "tol = 1e-5\n",
    "(c,d) = gssrec(f,a,b,tol)\n",
    "print(\"Minimum Value of f(x) is : \",c)"
   ]
  },
  {
   "cell_type": "code",
   "execution_count": 3,
   "metadata": {},
   "outputs": [
    {
     "name": "stdout",
     "output_type": "stream",
     "text": [
      "Minimum Value of g(x) is :  4.7123854039228945\n"
     ]
    }
   ],
   "source": [
    "import math\n",
    "invphi = (math.sqrt(5) - 1) / 2 # 1/phi                                                                                                                     \n",
    "invphi2 = (3 - math.sqrt(5)) / 2 # 1/phi^2                                                                                                                  \n",
    "\n",
    "def gssrec(f,a,b,tol=1e-5,h=None,c=None,d=None,fc=None,fd=None):\n",
    " \n",
    "    (a,b)=(min(a,b),max(a,b))\n",
    "    if h == None: h=b-a\n",
    "    if h <= tol: return (a,b)\n",
    "    if c == None: c = a + invphi2*h\n",
    "    if d == None: d = a + invphi*h\n",
    "    if fc == None: fc = f(c)\n",
    "    if fd == None: fd = f(d)\n",
    "    if fc < fd:\n",
    "        return gssrec(f,a,d,tol,h*invphi,c=None,fc=None,d=c,fd=fc)\n",
    "    else:\n",
    "        return gssrec(f,c,b,tol,h*invphi,c=d,fc=fd,d=None,fd=None)\n",
    "\n",
    "\n",
    "f = lambda x: (3*math.sin(x))+pow(math.cos(x),2);\n",
    "a = 2*math.pi\n",
    "b = math.pi\n",
    "tol = 1e-5\n",
    "(c,d) = gssrec(f,a,b,tol)\n",
    "print(\"Minimum Value of g(x) is : \",c)"
   ]
  },
  {
   "cell_type": "markdown",
   "metadata": {},
   "source": [
    "# B 2.2 Find Maximum by using parabolic interpolation technique"
   ]
  },
  {
   "cell_type": "code",
   "execution_count": 9,
   "metadata": {},
   "outputs": [
    {
     "name": "stdout",
     "output_type": "stream",
     "text": [
      "x1=-2, x2 = 0, x3 = 2, x4=0.4166666666666667\n",
      "Value of f(x) is -4.552662037037037\n",
      "x1=0, x2 = 0.4166666666666667, x3 = 2, x4=0.023255813953488302\n",
      "Value of f(x) is -3.9799766058334485\n",
      "x1=0, x2 = 0.023255813953488302, x3 = 0.4166666666666667, x4=0.08905542000697153\n",
      "Value of f(x) is -3.9578235002228834\n",
      "x1=0.023255813953488302, x2 = 0.08905542000697153, x3 = 0.4166666666666667, x4=0.0869245799926733\n",
      "Value of f(x) is -3.957753923726664\n",
      "x1=0.023255813953488302, x2 = 0.0869245799926733, x3 = 0.08905542000697153, x4=0.08517553077380323\n",
      "Value of f(x) is -3.9577357579900423\n",
      "x1=0.023255813953488302, x2 = 0.08517553077380323, x3 = 0.0869245799926733, x4=0.085155421399076\n",
      "Value of f(x) is -3.957735753440538\n",
      "Value of xopt is 0.085155421399076 , value of ea is 0.0236149083603078 , value of es is 0.05\n",
      "x1=0.023255813953488302, x2 = 0.085155421399076, x3 = 0.08517553077380323, x4=0.08514599435378808\n",
      "Value of f(x) is -3.957735752907294\n",
      "Value of xopt is 0.08514599435378808 , value of ea is 0.011071625106342069 , value of es is 0.05\n",
      "x1=0.023255813953488302, x2 = 0.08514599435378808, x3 = 0.085155421399076, x4=0.08514583696388132\n",
      "Value of f(x) is -3.9577357529070567\n",
      "Value of xopt is 0.08514583696388132 , value of ea is 0.00018484744806378519 , value of es is 0.05\n"
     ]
    }
   ],
   "source": [
    "#B2.1 parabolic interpolation technique to find the maximum of the function f(x)\n",
    "import math\n",
    "def fx(x):\n",
    "    return x**3-6*(x**2)+x-4;\n",
    "#f = lambda x: (3*math.sin(x))+pow(math.cos(x),2);   \n",
    "x1 = -2\n",
    "x2 = 0\n",
    "x3 = 2\n",
    "es = 0.05\n",
    "iteration = 0;\n",
    "max_iteration = 20;\n",
    "xopt = 0;\n",
    "while  iteration< 15:\n",
    "    xopt_previous = xopt;\n",
    "    alpha1 = (x2-x1)*(x2-x1)*(fx(x2)-fx(x3));\n",
    "    alpha2 = (x2-x3)*(x2-x3)*(fx(x2)-fx(x1));\n",
    "    beta1 = (x2-x1)*(fx(x2)-fx(x3));\n",
    "    beta2 = (x2-x3)*(fx(x2)-fx(x1));\n",
    "    gamma = (alpha1 - alpha2)/(beta1 - beta2);\n",
    "    x4 = x2 - (0.5 * gamma);\n",
    "    iteration = iteration + 1;\n",
    "    print(f\"x1={x1}, x2 = {x2}, x3 = {x3}, x4={x4}\")\n",
    "    if x4 > x2:\n",
    "        x1 = x2\n",
    "        x2 = x4;\n",
    "    else :\n",
    "        x3 = x2\n",
    "        x2 = x4;\n",
    "    xopt = x4;\n",
    "    iteration = iteration + 1;\n",
    "    ea = (abs(xopt-xopt_previous)/xopt)*100;\n",
    "    print(f\"Value of f(x) is {fx(xopt)}\");\n",
    "    if( ea < es or iteration>= max_iteration):\n",
    "        print(f\"Value of xopt is {xopt} , value of ea is {ea} , value of es is {es}\")"
   ]
  },
  {
   "cell_type": "code",
   "execution_count": 7,
   "metadata": {},
   "outputs": [
    {
     "name": "stdout",
     "output_type": "stream",
     "text": [
      "x1=-1.5707963267948966, x2 = 0, x3 = 3.141592653589793, x4=1.5707963267948966\n",
      "Value of g(x) is 3.0\n",
      "x1=0, x2 = 1.5707963267948966, x3 = 3.141592653589793, x4=1.5707963267948966\n",
      "Value of g(x) is 3.0\n",
      "Value of xopt is 1.5707963267948966 , value of ea is 0.0 , value of es is 0.05\n"
     ]
    }
   ],
   "source": [
    "#B2.1 parabolic interpolation technique to find the maximum of the function f(x)\n",
    "import math\n",
    "def gx(x):\n",
    "    return (3*math.sin(x))+pow(math.cos(x),2);\n",
    "#f = lambda x: (3*math.sin(x))+pow(math.cos(x),2);   \n",
    "x1 = -(math.pi/2)\n",
    "x2 = 0\n",
    "x3 = math.pi\n",
    "es = 0.05\n",
    "iteration = 0;\n",
    "max_iteration = 20;\n",
    "xopt = 0;\n",
    "while  iteration< 4:\n",
    "    xopt_previous = xopt;\n",
    "    alpha1 = (x2-x1)*(x2-x1)*(gx(x2)-gx(x3));\n",
    "    alpha2 = (x2-x3)*(x2-x3)*(gx(x2)-gx(x1));\n",
    "    beta1 = (x2-x1)*(gx(x2)-gx(x3));\n",
    "    beta2 = (x2-x3)*(gx(x2)-gx(x1));\n",
    "    gamma = (alpha1 - alpha2)/(beta1 - beta2);\n",
    "    x4 = x2 - (0.5 * gamma);\n",
    "    iteration = iteration + 1;\n",
    "    print(f\"x1={x1}, x2 = {x2}, x3 = {x3}, x4={x4}\")\n",
    "    if x4 > x2:\n",
    "        x1 = x2\n",
    "        x2 = x4;\n",
    "    else :\n",
    "        x3 = x2\n",
    "        x2 = x4;\n",
    "    xopt = x4;\n",
    "    iteration = iteration + 1;\n",
    "    ea = (abs(xopt-xopt_previous)/xopt)*100;\n",
    "    print(f\"Value of g(x) is {gx(xopt)}\");\n",
    "    if( ea < es or iteration>= max_iteration):\n",
    "        print(f\"Value of xopt is {xopt} , value of ea is {ea} , value of es is {es}\")"
   ]
  },
  {
   "cell_type": "markdown",
   "metadata": {},
   "source": [
    " # Method C Matrix\n",
    " -------------------------------------------------------------------------------------------\n",
    "  ## How to run This Program \n",
    "   ![Jupyter](https://cdn-images-1.medium.com/max/1600/1*LPnY8nOLg4S6_TG0DEXwsg.png) \n",
    "  * Need Jupyter Notebook or Install Anaconda Python\n",
    "  * Copy this File into locate C:\\Users\\Name of user in PC\n",
    "  * Open Jupyter Notebook and run this file\n",
    "  * Click Run or Press Shift + Enter to process \n",
    "\n",
    "  ![Matrix](https://cdn3.movieweb.com/i/article/gIdrZFTvO1nsC16dRaTBMOzqaabBjj/1150:50/The-Matrix-4-Reboot-Plot-Keanu-Reeves.jpg)"
   ]
  },
  {
   "cell_type": "code",
   "execution_count": 6,
   "metadata": {},
   "outputs": [
    {
     "name": "stdout",
     "output_type": "stream",
     "text": [
      "Solutions:\n",
      " [-2.4  1.4  0.4]\n"
     ]
    }
   ],
   "source": [
    "# Powered By Jupyter Notebook\n",
    "# System linear equation\n",
    "# Simplified Matrix form for this system (Ax = b). \n",
    "# C.1 Find determinant of A without using recursion \n",
    "# Using Library function from Python\n",
    "import numpy as np\n",
    "# define matrix A using Numpy arrays\n",
    "#𝑥 + 3𝑦 − 2𝑧  #3𝑥 + 2𝑦 + 6𝑧  #2𝑥 + 4𝑦 + 3𝑧\n",
    "A = np.array([[1, 3, -2],[3, 2, 6],[2, 4, 3]]) \n",
    "\n",
    "#define matrix    B\n",
    "# 𝑥 + 3𝑦 − 2𝑧 = 1 \n",
    "#3𝑥 + 2𝑦 + 6𝑧 = −2\n",
    "#2𝑥 + 4𝑦 + 3𝑧 = 2 \n",
    "B = np.array([1, -2, 2]) \n",
    "\n",
    "# linalg.solve is the function of NumPy to solve a system of linear scalar equations\n",
    "print (\"Solutions:\\n\",np.linalg.solve(A, B ))\n",
    "# Result Solutions:  [-2.4  1.4  0.4]"
   ]
  },
  {
   "cell_type": "code",
   "execution_count": 7,
   "metadata": {},
   "outputs": [
    {
     "name": "stdout",
     "output_type": "stream",
     "text": [
      "x= -2.4 y= 1.4 z= 0.4\n"
     ]
    }
   ],
   "source": [
    "# C.2 Find x, y, and z using Cramer’s rule. \n",
    "from numpy import linalg    \n",
    "# 𝑥 + 3𝑦 − 2𝑧 = 1 \n",
    "#3𝑥 + 2𝑦 + 6𝑧 = −2\n",
    "#2𝑥 + 4𝑦 + 3𝑧 = 2     \n",
    "#1 3 -2\n",
    "# 3 2 6\n",
    "#2 4 3\n",
    "A=[[1,3,-2],[3,2,6],[2,4,3]]\n",
    "# B is equal 1 , -2 , 2 \n",
    "B=[1,-2,2]\n",
    "C=[[1,3,-2],[3,2,6],[2,4,3]]\n",
    "X=[]\n",
    "for i in range(0,len(B)):\n",
    "    for j in range(0,len(B)):\n",
    "        C[j][i]=B[j]\n",
    "        if i>0:\n",
    "            C[j][i-1]=A[j][i-1]\n",
    "            # Use linalg or Linear Algebra Library to find Determinant\n",
    "    X.append(round(linalg.det(C)/linalg.det(A),1)) \n",
    "print(\"x=\",X[0],'y=',X[1],'z=',X[2])\n",
    "# Result x= -2.4 y= 1.4 z= 0.4"
   ]
  },
  {
   "cell_type": "code",
   "execution_count": 8,
   "metadata": {},
   "outputs": [
    {
     "name": "stdout",
     "output_type": "stream",
     "text": [
      "[[ 18.  -3.  -8.]\n",
      " [ 17.  -7.  -2.]\n",
      " [-22.  12.   7.]]\n"
     ]
    }
   ],
   "source": [
    "#C.3.1 Find Inverse of A by Minor\n",
    "# Use linalg or Linear Algebra Library to solve Inverse\n",
    "import numpy as np\n",
    "A=[[1,3,-2],[3,2,6],[2,4,3]]\n",
    "Minor = (np.linalg.inv(A).T/-1 )*np.linalg.det(A)\n",
    "print(Minor)\n"
   ]
  },
  {
   "cell_type": "code",
   "execution_count": 9,
   "metadata": {},
   "outputs": [
    {
     "name": "stdout",
     "output_type": "stream",
     "text": [
      "[[-18.   3.   8.]\n",
      " [-17.   7.   2.]\n",
      " [ 22. -12.  -7.]]\n"
     ]
    }
   ],
   "source": [
    "#C.3.2 Find Inverse by using Cofactor\n",
    "A=[[1,3,-2],[3,2,6],[2,4,3]]\n",
    "# Use linalg or Linear Algebra Library to find by inverse * determinant\n",
    "Cofactor =  np.linalg.inv(A).T * np.linalg.det(A)\n",
    "print(Cofactor)"
   ]
  },
  {
   "cell_type": "code",
   "execution_count": 10,
   "metadata": {},
   "outputs": [
    {
     "name": "stdout",
     "output_type": "stream",
     "text": [
      "[[-18. -17.  22.]\n",
      " [  3.   7. -12.]\n",
      " [  8.   2.  -7.]]\n"
     ]
    }
   ],
   "source": [
    "#C.3.3 Find Inverse by using Adjugate\n",
    "import numpy as np\n",
    "# us Numpy or Numeric Python Package to find transpose from cofactor\n",
    "print(np.transpose(Cofactor))"
   ]
  },
  {
   "cell_type": "code",
   "execution_count": null,
   "metadata": {},
   "outputs": [],
   "source": []
  }
 ],
 "metadata": {
  "kernelspec": {
   "display_name": "Python 3",
   "language": "python",
   "name": "python3"
  },
  "language_info": {
   "codemirror_mode": {
    "name": "ipython",
    "version": 3
   },
   "file_extension": ".py",
   "mimetype": "text/x-python",
   "name": "python",
   "nbconvert_exporter": "python",
   "pygments_lexer": "ipython3",
   "version": "3.7.0"
  }
 },
 "nbformat": 4,
 "nbformat_minor": 2
}
