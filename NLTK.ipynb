{
 "cells": [
  {
   "cell_type": "code",
   "execution_count": 2,
   "metadata": {},
   "outputs": [
    {
     "name": "stdout",
     "output_type": "stream",
     "text": [
      "[nltk_data] Downloading package punkt to\n",
      "[nltk_data]     C:\\Users\\Sunat\\AppData\\Roaming\\nltk_data...\n",
      "[nltk_data]   Unzipping tokenizers\\punkt.zip.\n"
     ]
    },
    {
     "data": {
      "text/plain": [
       "True"
      ]
     },
     "execution_count": 2,
     "metadata": {},
     "output_type": "execute_result"
    }
   ],
   "source": [
    "import nltk\n",
    "nltk.download('punkt')"
   ]
  },
  {
   "cell_type": "code",
   "execution_count": 31,
   "metadata": {},
   "outputs": [
    {
     "name": "stdout",
     "output_type": "stream",
     "text": [
      "showing info https://raw.githubusercontent.com/nltk/nltk_data/gh-pages/index.xml\n"
     ]
    },
    {
     "data": {
      "text/plain": [
       "True"
      ]
     },
     "execution_count": 31,
     "metadata": {},
     "output_type": "execute_result"
    }
   ],
   "source": [
    "import nltk\n",
    "import ssl\n",
    "try:_create_unverified_https_context = ssl._create_unverified_context\n",
    "except AttributeError: pass\n",
    "else:ssl._create_default_https_context =_create_unverified_https_context\n",
    "nltk.download()"
   ]
  },
  {
   "cell_type": "code",
   "execution_count": 32,
   "metadata": {},
   "outputs": [
    {
     "name": "stdout",
     "output_type": "stream",
     "text": [
      "showing info https://raw.githubusercontent.com/nltk/nltk_data/gh-pages/index.xml\n"
     ]
    },
    {
     "data": {
      "text/plain": [
       "True"
      ]
     },
     "execution_count": 32,
     "metadata": {},
     "output_type": "execute_result"
    }
   ],
   "source": [
    "nltk.set_proxy('http://proxy.madhidol:8080', ('u6088130', '0863144508'))\n",
    "nltk.download()"
   ]
  },
  {
   "cell_type": "code",
   "execution_count": 108,
   "metadata": {},
   "outputs": [
    {
     "name": "stdout",
     "output_type": "stream",
     "text": [
      "['I am studying ITCS159 software lab with my friends']\n"
     ]
    }
   ],
   "source": [
    "from nltk.tokenize import sent_tokenize\n",
    "text=\"\"\"I am studying ITCS159 software lab with my friends\"\"\"\n",
    "tokenized_text=sent_tokenize(text)\n",
    "print(tokenized_text)\n",
    "#  12 sentences\n",
    "# They have been bred by humans for a long time, and were the first animals ever to be domesticated"
   ]
  },
  {
   "cell_type": "code",
   "execution_count": 109,
   "metadata": {},
   "outputs": [
    {
     "name": "stdout",
     "output_type": "stream",
     "text": [
      "['I', 'am', 'studying', 'ITCS159', 'software', 'lab', 'with', 'my', 'friends']\n"
     ]
    }
   ],
   "source": [
    "from nltk.tokenize import word_tokenize\n",
    "tokenized_word=word_tokenize(text)\n",
    "print(tokenized_word)\n",
    "# 189 words in one paragraph\n",
    "# 10 words\n",
    "# 25 words in the last sentences\n",
    "# yes // dogs , are "
   ]
  },
  {
   "cell_type": "code",
   "execution_count": 110,
   "metadata": {},
   "outputs": [
    {
     "name": "stdout",
     "output_type": "stream",
     "text": [
      "<FreqDist with 9 samples and 9 outcomes>\n"
     ]
    }
   ],
   "source": [
    "from nltk.probability import FreqDist\n",
    "fdist = FreqDist(tokenized_word)\n",
    "print(fdist)"
   ]
  },
  {
   "cell_type": "code",
   "execution_count": 111,
   "metadata": {},
   "outputs": [
    {
     "data": {
      "text/plain": [
       "FreqDist({'I': 1, 'am': 1, 'studying': 1, 'ITCS159': 1, 'software': 1, 'lab': 1, 'with': 1, 'my': 1, 'friends': 1})"
      ]
     },
     "execution_count": 111,
     "metadata": {},
     "output_type": "execute_result"
    }
   ],
   "source": [
    "fdist\n",
    "# find to use most common frequency"
   ]
  },
  {
   "cell_type": "code",
   "execution_count": 117,
   "metadata": {},
   "outputs": [],
   "source": [
    "fdist.most_common(10)\n",
    "my_stopwords = [\"is\", \"a\", \"this\", \",\",\"with\"]"
   ]
  },
  {
   "cell_type": "code",
   "execution_count": 121,
   "metadata": {},
   "outputs": [
    {
     "name": "stdout",
     "output_type": "stream",
     "text": [
      "{'if', 'itself', 'y', 'up', 'of', 'after', 'below', 'under', 'yourselves', 'both', 'ours', 'who', 'why', 'i', 'my', \"shouldn't\", 'mustn', 'between', 'does', 'because', 'or', 'such', 'wouldn', 'her', 'once', 'with', 'out', 'being', 'further', 'any', 'own', 'themselves', 'other', 'as', 'shan', 'not', 'didn', 'those', 'while', 'the', 'should', 'there', 'she', 'down', 'all', 'your', \"should've\", 'no', 'whom', 'again', 'won', 'through', 'but', 'yourself', 'they', 'you', 'himself', 'am', 'is', 'were', 'hadn', \"she's\", 'do', 'hers', 'been', 'me', 'has', 'by', 'for', \"wouldn't\", 'into', 'at', \"shan't\", 'we', 'very', 'than', 'll', 'couldn', 'ain', 'above', 'his', 'on', \"mightn't\", 'too', 'what', \"mustn't\", 'having', 'few', 'have', 'shouldn', \"you'd\", 'he', 'a', 'ourselves', 'did', 'that', 'most', \"needn't\", 'against', 'then', 'its', 'over', 'more', \"couldn't\", 'just', 're', 't', 'aren', 'be', 'theirs', 'ma', 'myself', 'o', 'don', \"don't\", 'd', \"won't\", \"hadn't\", 'was', 'during', 'this', 'haven', 'in', 'weren', 'an', 'are', \"weren't\", 'him', 'it', 'to', 'them', 'our', \"you're\", 'had', 'needn', 'wasn', \"wasn't\", 've', \"you'll\", 'these', 'herself', 'some', 'here', \"hasn't\", 'm', 'from', 'how', \"you've\", \"that'll\", 'where', 's', 'now', 'when', 'about', 'yours', 'each', 'hasn', \"isn't\", 'doing', 'and', 'their', 'isn', \"didn't\", \"haven't\", 'same', 'mightn', \"doesn't\", 'will', 'nor', 'off', 'doesn', 'before', 'only', \"aren't\", 'so', 'until', \"it's\", 'can', 'which'}\n"
     ]
    }
   ],
   "source": [
    "my_stopwords = [\"is\", \"a\", \"this\", \",\",\"with\"]\n",
    "from nltk.corpus import stopwords\n",
    "nltk_stop_words=set(stopwords.words(\"english\"))\n",
    "print(nltk_stop_words)"
   ]
  },
  {
   "cell_type": "code",
   "execution_count": 122,
   "metadata": {},
   "outputs": [
    {
     "name": "stdout",
     "output_type": "stream",
     "text": [
      "Tokenized Sentence: ['I', 'am', 'studying', 'ITCS159', 'software', 'lab', 'with', 'my', 'friends']\n",
      "\n",
      "\n",
      "Filterd Sentence: ['I', 'am', 'studying', 'ITCS159', 'software', 'lab', 'my', 'friends']\n"
     ]
    }
   ],
   "source": [
    "filtered_words=[]\n",
    "for w in tokenized_word : \n",
    "    if w not in my_stopwords: \n",
    "        filtered_words.append(w)\n",
    "print(\"Tokenized Sentence:\",tokenized_word)\n",
    "print(\"\\n\")\n",
    "print(\"Filterd Sentence:\",filtered_words)"
   ]
  },
  {
   "cell_type": "code",
   "execution_count": 123,
   "metadata": {},
   "outputs": [
    {
     "data": {
      "text/plain": [
       "'connect'"
      ]
     },
     "execution_count": 123,
     "metadata": {},
     "output_type": "execute_result"
    }
   ],
   "source": [
    "from nltk.stem import PorterStemmer\n",
    "stem = PorterStemmer()\n",
    "word = \"connection\"\n",
    "stem.stem(word)\n",
    "# chops off the derivational affixes (“ing”, “ly”, “es”, “s” etc)"
   ]
  },
  {
   "cell_type": "code",
   "execution_count": 124,
   "metadata": {},
   "outputs": [
    {
     "name": "stdout",
     "output_type": "stream",
     "text": [
      "Filtered Sentence: ['I', 'am', 'studying', 'ITCS159', 'software', 'lab', 'my', 'friends']\n",
      "\n",
      "\n",
      "Stemmed Sentence: ['I', 'am', 'studi', 'itcs159', 'softwar', 'lab', 'my', 'friend']\n"
     ]
    }
   ],
   "source": [
    "from nltk.stem import PorterStemmer\n",
    "from nltk.tokenize import sent_tokenize, word_tokenize\n",
    "stem = PorterStemmer()\n",
    "stemmed_words=[]\n",
    "for w in filtered_words:\n",
    "        stemmed_words.append(stem.stem(w))\n",
    "print(\"Filtered Sentence:\",filtered_words)\n",
    "print(\"\\n\")\n",
    "print(\"Stemmed Sentence:\",stemmed_words)\n",
    "# เหมือนกับการตัด v.ing ทิ้ง chops off the derivational affixes (“ing”, “ly”, “es”, “s” etc)"
   ]
  },
  {
   "cell_type": "code",
   "execution_count": 125,
   "metadata": {},
   "outputs": [
    {
     "data": {
      "text/plain": [
       "'connect'"
      ]
     },
     "execution_count": 125,
     "metadata": {},
     "output_type": "execute_result"
    }
   ],
   "source": [
    "from nltk.stem.wordnet import WordNetLemmatizer\n",
    "lem = WordNetLemmatizer()\n",
    "word = \"connecting\"\n",
    "lem.lemmatize(word, pos=\"v\")\n"
   ]
  },
  {
   "cell_type": "code",
   "execution_count": 126,
   "metadata": {},
   "outputs": [
    {
     "name": "stdout",
     "output_type": "stream",
     "text": [
      "swim\n",
      "swimming\n"
     ]
    }
   ],
   "source": [
    "from nltk.stem.wordnet import WordNetLemmatizer\n",
    "lem = WordNetLemmatizer()\n",
    "word = \"swimming\"\n",
    "print(lem.lemmatize(word, pos=\"v\"))\n",
    "print(lem.lemmatize(word, pos=\"n\"))\n",
    "# v for chops off the derivational affixes (“ing”, “ly”, “es”, “s” etc)\n",
    "# n for adding the derivational affixes (“ing”, “ly”, “es”, “s” etc)"
   ]
  },
  {
   "cell_type": "code",
   "execution_count": 129,
   "metadata": {},
   "outputs": [
    {
     "name": "stdout",
     "output_type": "stream",
     "text": [
      "['I', 'am', 'Sunat', 'i', \"'m\", 'studying', 'at', 'ICT']\n"
     ]
    },
    {
     "data": {
      "text/plain": [
       "[('I', 'PRP'),\n",
       " ('am', 'VBP'),\n",
       " ('Sunat', 'JJ'),\n",
       " ('i', 'NN'),\n",
       " (\"'m\", 'VBP'),\n",
       " ('studying', 'VBG'),\n",
       " ('at', 'IN'),\n",
       " ('ICT', 'NNP')]"
      ]
     },
     "execution_count": 129,
     "metadata": {},
     "output_type": "execute_result"
    }
   ],
   "source": [
    "sent = \"I am Sunat i'm studying at ICT \"\n",
    "tokens=nltk.word_tokenize(sent)\n",
    "print(tokens)\n",
    "nltk.pos_tag(tokens)\n",
    "#  nltk.word_tokenize(sent) = trim words \n",
    "# The primary target of Part-of-Speech(POS) tagging is to identify the grammatical group of a given word.  Whether it is a NOUN, PRONOUN, ADJECTIVE, VERB, ADVERBS, etc.  \n",
    "# PRP$ = prosessive pronoun\n",
    "# VBP = verb , single present\n",
    "# VBG = verb, gerund/present participle\ttaking\n",
    "# NNP = proper noun, singular\n",
    "# NN = Noun, Singular\n",
    "# IN = preposition/subordinating conjunction\n",
    "# NNS = noun plural\t'desks'"
   ]
  },
  {
   "cell_type": "code",
   "execution_count": null,
   "metadata": {},
   "outputs": [],
   "source": []
  },
  {
   "cell_type": "code",
   "execution_count": null,
   "metadata": {},
   "outputs": [],
   "source": []
  }
 ],
 "metadata": {
  "kernelspec": {
   "display_name": "Python 3",
   "language": "python",
   "name": "python3"
  },
  "language_info": {
   "codemirror_mode": {
    "name": "ipython",
    "version": 3
   },
   "file_extension": ".py",
   "mimetype": "text/x-python",
   "name": "python",
   "nbconvert_exporter": "python",
   "pygments_lexer": "ipython3",
   "version": "3.7.0"
  }
 },
 "nbformat": 4,
 "nbformat_minor": 2
}
