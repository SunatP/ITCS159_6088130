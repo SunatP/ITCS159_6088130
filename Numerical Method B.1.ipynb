{
 "cells": [
  {
   "cell_type": "markdown",
   "metadata": {},
   "source": [
    "# B.1 Find Minimum value\n",
    " -------------------------------------------------------------------------------------------\n",
    "  ## How to run This Program \n",
    "   ![Jupyter](https://cdn-images-1.medium.com/max/1600/1*LPnY8nOLg4S6_TG0DEXwsg.png) \n",
    "  * Need Jupyter Notebook or Install Anaconda Python\n",
    "  * Copy this File into locate C:\\Users\\Name of user in PC\n",
    "  * Open Jupyter Notebook and run this file\n",
    "  * Click Run or Press Shift + Enter to process \n"
   ]
  },
  {
   "cell_type": "code",
   "execution_count": 5,
   "metadata": {},
   "outputs": [
    {
     "name": "stdout",
     "output_type": "stream",
     "text": [
      "Minimum Value of f(x) is :  3.9148498369237834\n"
     ]
    }
   ],
   "source": [
    "import math\n",
    "invphi = (math.sqrt(5) - 1) / 2 # 1/phi                                                                                                                     \n",
    "invphi2 = (3 - math.sqrt(5)) / 2 # 1/phi^2                                                                                                                  \n",
    "\n",
    "def gssrec(f,a,b,tol=1e-5,h=None,c=None,d=None,fc=None,fd=None):\n",
    " \n",
    "    (a,b)=(min(a,b),max(a,b))\n",
    "    if h == None: h=b-a\n",
    "    if h <= tol: return (a,b)\n",
    "    if c == None: c = a + invphi2*h\n",
    "    if d == None: d = a + invphi*h\n",
    "    if fc == None: fc = f(c)\n",
    "    if fd == None: fd = f(d)\n",
    "    if fc < fd:\n",
    "        return gssrec(f,a,d,tol,h*invphi,c=None,fc=None,d=c,fd=fc)\n",
    "    else:\n",
    "        return gssrec(f,c,b,tol,h*invphi,c=d,fc=fd,d=None,fd=None)\n",
    "\n",
    "\n",
    "f = lambda x: pow(x,3)-(6*pow(x,2))+x-4;\n",
    "a = 0\n",
    "b = 6\n",
    "tol = 1e-5\n",
    "(c,d) = gssrec(f,a,b,tol)\n",
    "print(\"Minimum Value of f(x) is : \",c)"
   ]
  },
  {
   "cell_type": "code",
   "execution_count": 4,
   "metadata": {},
   "outputs": [
    {
     "name": "stdout",
     "output_type": "stream",
     "text": [
      "Minimum Value of g(x) is :  4.7123854039228945\n"
     ]
    }
   ],
   "source": [
    "import math\n",
    "invphi = (math.sqrt(5) - 1) / 2 # 1/phi                                                                                                                     \n",
    "invphi2 = (3 - math.sqrt(5)) / 2 # 1/phi^2                                                                                                                  \n",
    "\n",
    "def gssrec(f,a,b,tol=1e-5,h=None,c=None,d=None,fc=None,fd=None):\n",
    " \n",
    "    (a,b)=(min(a,b),max(a,b))\n",
    "    if h == None: h=b-a\n",
    "    if h <= tol: return (a,b)\n",
    "    if c == None: c = a + invphi2*h\n",
    "    if d == None: d = a + invphi*h\n",
    "    if fc == None: fc = f(c)\n",
    "    if fd == None: fd = f(d)\n",
    "    if fc < fd:\n",
    "        return gssrec(f,a,d,tol,h*invphi,c=None,fc=None,d=c,fd=fc)\n",
    "    else:\n",
    "        return gssrec(f,c,b,tol,h*invphi,c=d,fc=fd,d=None,fd=None)\n",
    "\n",
    "\n",
    "f = lambda x: (3*math.sin(x))+pow(math.cos(x),2);\n",
    "a = 2*math.pi\n",
    "b = math.pi\n",
    "tol = 1e-5\n",
    "(c,d) = gssrec(f,a,b,tol)\n",
    "print(\"Minimum Value of g(x) is : \",c)"
   ]
  },
  {
   "cell_type": "code",
   "execution_count": null,
   "metadata": {},
   "outputs": [],
   "source": []
  }
 ],
 "metadata": {
  "kernelspec": {
   "display_name": "Python 3",
   "language": "python",
   "name": "python3"
  },
  "language_info": {
   "codemirror_mode": {
    "name": "ipython",
    "version": 3
   },
   "file_extension": ".py",
   "mimetype": "text/x-python",
   "name": "python",
   "nbconvert_exporter": "python",
   "pygments_lexer": "ipython3",
   "version": "3.7.0"
  }
 },
 "nbformat": 4,
 "nbformat_minor": 2
}
