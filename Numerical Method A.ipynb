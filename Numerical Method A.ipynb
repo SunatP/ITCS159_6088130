{
 "cells": [
  {
   "cell_type": "markdown",
   "metadata": {},
   "source": [
    "# A False Position method \n",
    " -------------------------------------------------------------------------------------------\n",
    "  ## How to run This Program \n",
    "   ![Jupyter](https://cdn-images-1.medium.com/max/1600/1*LPnY8nOLg4S6_TG0DEXwsg.png) \n",
    "  * Need Jupyter Notebook or Install Anaconda Python\n",
    "  * Copy this File into locate C:\\Users\\Name of user in PC\n",
    "  * Open Jupyter Notebook and run this file\n",
    "  * Click Run or Press Shift + Enter to process \n"
   ]
  },
  {
   "cell_type": "code",
   "execution_count": 8,
   "metadata": {},
   "outputs": [
    {
     "name": "stdout",
     "output_type": "stream",
     "text": [
      "Enter value : 3\n",
      "Value of Xl is  20\n",
      "Value of Xu is  21\n",
      "Value of Error significant is  47.0\n",
      "Value of Es is  0.05\n",
      "Value of Ea is  4.542776725018565\n",
      "Value of Ea is  0.009608884844831606\n",
      "Value or Xr is : 20.085541044399335\n"
     ]
    }
   ],
   "source": [
    " # A find interval\n",
    "from math import * \n",
    "import numpy as np\n",
    "def ln(x, M):\n",
    "    return np.log(x) - M\n",
    "\n",
    "\n",
    "def false_si_postition(M):\n",
    "    i = 1\n",
    "    while True:\n",
    "        if(np.log(i) < M): i += 1\n",
    "        else: \n",
    "            break\n",
    "    xl = i - 1\n",
    "    print(\"Value of Xl is \",xl)\n",
    "    xu = i\n",
    "    print(\"Value of Xu is \",xu)\n",
    "    xr = xu\n",
    "    ea = 100\n",
    "    es = (0.5 * pow(10,2-M))\n",
    "    errsig = (0.5 * 10**2-M)\n",
    "    print(\"Value of Error significant is \" , errsig)\n",
    "    print(\"Value of Es is \" , es)\n",
    "    while ea > es:\n",
    "        prev_xr = xr\n",
    "        xr = xu - ln(xu, M)*((xu - xl)/(ln(xu, M) - ln(xl, M)))\n",
    "        if ln(xr, 5) == 0: break\n",
    "        elif ln(xl, M)*ln(xr, M) < 0:\n",
    "            xu = xr\n",
    "        else: xl = xr\n",
    "        ea = (xr - prev_xr)/xr * 100\n",
    "        ea = abs(ea)\n",
    "        print(\"Value of Ea is \" , ea)\n",
    "    return xr\n",
    "    \n",
    "a = float(input(\"Enter value : \"))\n",
    "if(a<0):print(\"error\")\n",
    "else:print(f\"Value or Xr is : {false_si_postition(a)}\" ) "
   ]
  },
  {
   "cell_type": "code",
   "execution_count": null,
   "metadata": {},
   "outputs": [],
   "source": []
  }
 ],
 "metadata": {
  "kernelspec": {
   "display_name": "Python 3",
   "language": "python",
   "name": "python3"
  },
  "language_info": {
   "codemirror_mode": {
    "name": "ipython",
    "version": 3
   },
   "file_extension": ".py",
   "mimetype": "text/x-python",
   "name": "python",
   "nbconvert_exporter": "python",
   "pygments_lexer": "ipython3",
   "version": "3.7.0"
  }
 },
 "nbformat": 4,
 "nbformat_minor": 2
}
