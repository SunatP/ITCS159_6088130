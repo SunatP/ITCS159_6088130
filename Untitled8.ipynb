{
 "cells": [
  {
   "cell_type": "code",
   "execution_count": 8,
   "metadata": {},
   "outputs": [
    {
     "name": "stdout",
     "output_type": "stream",
     "text": [
      "[[80], [78], [55], [60], [62], [59], [48], [49], [51], [54], [72], [95], [78], [54], [50], [61], [57], [56], [65], [53]]\n"
     ]
    }
   ],
   "source": [
    "import scipy\n",
    "from scipy.cluster.vq import kmeans,vq,whiten\n",
    "student_scores = [[80], [78], [55], [60], [62],\n",
    "[59], [48], [49], [51], [54],\n",
    "[72], [95], [78], [54], [50],\n",
    "[61], [57], [56], [65], [53]];\n",
    "print(student_scores)\n"
   ]
  },
  {
   "cell_type": "code",
   "execution_count": 9,
   "metadata": {},
   "outputs": [
    {
     "name": "stdout",
     "output_type": "stream",
     "text": [
      "[[6.53573177]\n",
      " [6.37233848]\n",
      " [4.49331559]\n",
      " [4.90179883]\n",
      " [5.06519213]\n",
      " [4.82010218]\n",
      " [3.92143906]\n",
      " [4.00313571]\n",
      " [4.16652901]\n",
      " [4.41161895]\n",
      " [5.8821586 ]\n",
      " [7.76118148]\n",
      " [6.37233848]\n",
      " [4.41161895]\n",
      " [4.08483236]\n",
      " [4.98349548]\n",
      " [4.65670889]\n",
      " [4.57501224]\n",
      " [5.31028207]\n",
      " [4.3299223 ]]\n",
      "[[6.58474976]\n",
      " [4.54233358]] 0.36926884524523024\n"
     ]
    }
   ],
   "source": [
    "student_scores = whiten(student_scores)\n",
    "centroids,_ = kmeans(student_scores,2)\n",
    "print(student_scores)\n",
    "print(centroids,_)"
   ]
  },
  {
   "cell_type": "code",
   "execution_count": 10,
   "metadata": {
    "scrolled": true
   },
   "outputs": [
    {
     "name": "stdout",
     "output_type": "stream",
     "text": [
      "[0 0 1 1 1 1 1 1 1 1 0 0 0 1 1 1 1 1 1 1]\n"
     ]
    }
   ],
   "source": [
    "result,_ = vq(student_scores,centroids)\n",
    "print(result)"
   ]
  },
  {
   "cell_type": "code",
   "execution_count": 7,
   "metadata": {
    "scrolled": true
   },
   "outputs": [
    {
     "ename": "NameError",
     "evalue": "name 'whiten' is not defined",
     "output_type": "error",
     "traceback": [
      "\u001b[1;31m---------------------------------------------------------------------------\u001b[0m",
      "\u001b[1;31mNameError\u001b[0m                                 Traceback (most recent call last)",
      "\u001b[1;32m<ipython-input-7-20fa98e92ea8>\u001b[0m in \u001b[0;36m<module>\u001b[1;34m()\u001b[0m\n\u001b[1;32m----> 1\u001b[1;33m \u001b[0mstudent_scores\u001b[0m \u001b[1;33m=\u001b[0m \u001b[0mwhiten\u001b[0m\u001b[1;33m(\u001b[0m\u001b[0mstudent_scores\u001b[0m\u001b[1;33m)\u001b[0m\u001b[1;33m\u001b[0m\u001b[0m\n\u001b[0m\u001b[0;32m      2\u001b[0m \u001b[0mcentroids\u001b[0m\u001b[1;33m,\u001b[0m\u001b[0m_\u001b[0m \u001b[1;33m=\u001b[0m \u001b[0mkmeans\u001b[0m\u001b[1;33m(\u001b[0m\u001b[0mstudent_scores\u001b[0m\u001b[1;33m,\u001b[0m\u001b[1;36m4\u001b[0m\u001b[1;33m)\u001b[0m\u001b[1;33m\u001b[0m\u001b[0m\n\u001b[0;32m      3\u001b[0m \u001b[0mprint\u001b[0m\u001b[1;33m(\u001b[0m\u001b[0mstudent_scores\u001b[0m\u001b[1;33m)\u001b[0m\u001b[1;33m\u001b[0m\u001b[0m\n\u001b[0;32m      4\u001b[0m \u001b[0mprint\u001b[0m\u001b[1;33m(\u001b[0m\u001b[0mcentroids\u001b[0m\u001b[1;33m,\u001b[0m\u001b[0m_\u001b[0m\u001b[1;33m)\u001b[0m\u001b[1;33m\u001b[0m\u001b[0m\n",
      "\u001b[1;31mNameError\u001b[0m: name 'whiten' is not defined"
     ]
    }
   ],
   "source": [
    "student_scores = whiten(student_scores)\n",
    "centroids,_ = kmeans(student_scores,4)\n",
    "print(student_scores)\n",
    "print(centroids,_)"
   ]
  },
  {
   "cell_type": "code",
   "execution_count": 15,
   "metadata": {},
   "outputs": [
    {
     "name": "stdout",
     "output_type": "stream",
     "text": [
      "The PI is 3.1415926535897931\n",
      "The speed of light is c = 299792458.0\n",
      "The newton’s gravity constant is G = 9.8\n"
     ]
    }
   ],
   "source": [
    "import scipy.constants\n",
    "print(\"The PI is %.16f\"%scipy.constants.pi)\n",
    "print(\"The speed of light is c = %.1F\"%scipy.constants.c)\n",
    "print(\"The newton’s gravity constant is G = %.1F\"%scipy.constants.g)"
   ]
  },
  {
   "cell_type": "code",
   "execution_count": 3,
   "metadata": {},
   "outputs": [
    {
     "data": {
      "text/plain": [
       "['atomic mass unit-kilogram relationship',\n",
       " 'electron volt-kilogram relationship',\n",
       " 'hartree-kilogram relationship',\n",
       " 'hertz-kilogram relationship',\n",
       " 'inverse meter-kilogram relationship',\n",
       " 'joule-kilogram relationship',\n",
       " 'kelvin-kilogram relationship',\n",
       " 'kilogram-atomic mass unit relationship',\n",
       " 'kilogram-electron volt relationship',\n",
       " 'kilogram-hartree relationship',\n",
       " 'kilogram-hertz relationship',\n",
       " 'kilogram-inverse meter relationship',\n",
       " 'kilogram-joule relationship',\n",
       " 'kilogram-kelvin relationship']"
      ]
     },
     "execution_count": 3,
     "metadata": {},
     "output_type": "execute_result"
    }
   ],
   "source": [
    "import scipy.constants\n",
    "scipy.constants.find(\"gram\")"
   ]
  },
  {
   "cell_type": "code",
   "execution_count": 4,
   "metadata": {},
   "outputs": [
    {
     "name": "stdout",
     "output_type": "stream",
     "text": [
      "(1.66053904e-27, 'kg', 2e-35)\n"
     ]
    }
   ],
   "source": [
    "print(scipy.constants.physical_constants[\"atomic mass unit-kilogram relationship\"])\n"
   ]
  },
  {
   "cell_type": "code",
   "execution_count": 21,
   "metadata": {},
   "outputs": [
    {
     "name": "stdout",
     "output_type": "stream",
     "text": [
      "1.7975103574736353e+18\n"
     ]
    }
   ],
   "source": [
    "import math\n",
    "m = 20\n",
    "c = scipy.constants.c\n",
    "e = m*pow(c,2)\n",
    "print(e)"
   ]
  },
  {
   "cell_type": "code",
   "execution_count": 23,
   "metadata": {},
   "outputs": [
    {
     "name": "stdout",
     "output_type": "stream",
     "text": [
      "15 21 18.0 4.0\n"
     ]
    }
   ],
   "source": [
    "import scipy.stats\n",
    "import numpy as np\n",
    "x = np.array([19,18,21,16,15,17,20,18]);\n",
    "print(scipy.stats.tmin(x), scipy.stats.tmax(x), scipy.stats.tmean(x), scipy.stats.tvar(x));\n"
   ]
  },
  {
   "cell_type": "code",
   "execution_count": 25,
   "metadata": {},
   "outputs": [
    {
     "name": "stdout",
     "output_type": "stream",
     "text": [
      "DescribeResult(nobs=8, minmax=(15, 21), mean=18.0, variance=4.0, skewness=0.0, kurtosis=-1.0)\n"
     ]
    }
   ],
   "source": [
    "print(scipy.stats.describe(x));"
   ]
  },
  {
   "cell_type": "code",
   "execution_count": 28,
   "metadata": {},
   "outputs": [
    {
     "name": "stdout",
     "output_type": "stream",
     "text": [
      "61.85\n",
      "12.558389940383952\n",
      "0.011944206280587316\n"
     ]
    }
   ],
   "source": [
    "import scipy.stats\n",
    "import numpy as np\n",
    "student_scores = [[80], [78], [55], [60], [62],\n",
    "[59], [48], [49], [51], [54],\n",
    "[72], [95], [78], [54], [50],\n",
    "[61], [57], [56], [65], [53]];\n",
    "\n",
    "print(scipy.stats.tmean(student_scores))\n",
    "print(scipy.stats.tstd(student_scores))\n",
    "print((62-scipy.stats.tmean(student_scores))/scipy.stats.tstd(student_scores))"
   ]
  },
  {
   "cell_type": "code",
   "execution_count": 1,
   "metadata": {},
   "outputs": [
    {
     "name": "stdout",
     "output_type": "stream",
     "text": [
      "[[ 1.48279415]\n",
      " [ 1.31940085]\n",
      " [-0.55962203]\n",
      " [-0.1511388 ]\n",
      " [ 0.0122545 ]\n",
      " [-0.23283544]\n",
      " [-1.13149856]\n",
      " [-1.04980192]\n",
      " [-0.88640862]\n",
      " [-0.64131868]\n",
      " [ 0.82922097]\n",
      " [ 2.70824385]\n",
      " [ 1.31940085]\n",
      " [-0.64131868]\n",
      " [-0.96810527]\n",
      " [-0.06944215]\n",
      " [-0.39622874]\n",
      " [-0.47792539]\n",
      " [ 0.25734444]\n",
      " [-0.72301533]]\n"
     ]
    }
   ],
   "source": [
    "import scipy.stats\n",
    "import numpy as np\n",
    "student_scores = [[80], [78], [55], [60], [62],\n",
    "[59], [48], [49], [51], [54],\n",
    "[72], [95], [78], [54], [50],\n",
    "[61], [57], [56], [65], [53]];\n",
    "print(scipy.stats.mstats.zscore(student_scores))\n",
    "\n",
    "    "
   ]
  },
  {
   "cell_type": "code",
   "execution_count": null,
   "metadata": {},
   "outputs": [],
   "source": []
  }
 ],
 "metadata": {
  "kernelspec": {
   "display_name": "Python 3",
   "language": "python",
   "name": "python3"
  },
  "language_info": {
   "codemirror_mode": {
    "name": "ipython",
    "version": 3
   },
   "file_extension": ".py",
   "mimetype": "text/x-python",
   "name": "python",
   "nbconvert_exporter": "python",
   "pygments_lexer": "ipython3",
   "version": "3.6.5"
  }
 },
 "nbformat": 4,
 "nbformat_minor": 2
}
