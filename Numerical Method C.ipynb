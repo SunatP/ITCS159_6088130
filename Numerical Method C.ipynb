{
 "cells": [
  {
   "cell_type": "markdown",
   "metadata": {},
   "source": [
    " # Method C Matrix\n",
    " -------------------------------------------------------------------------------------------\n",
    "  ## How to run This Program \n",
    "   ![Jupyter](https://cdn-images-1.medium.com/max/1600/1*LPnY8nOLg4S6_TG0DEXwsg.png) \n",
    "  * Need Jupyter Notebook or Install Anaconda Python\n",
    "  * Copy this File into locate C:\\Users\\Name of user in PC\n",
    "  * Open Jupyter Notebook and run this file\n",
    "  * Click Run or Press Shift + Enter to process \n",
    "\n",
    "  ![Matrix](https://cdn3.movieweb.com/i/article/gIdrZFTvO1nsC16dRaTBMOzqaabBjj/1150:50/The-Matrix-4-Reboot-Plot-Keanu-Reeves.jpg)"
   ]
  },
  {
   "cell_type": "code",
   "execution_count": 1,
   "metadata": {},
   "outputs": [
    {
     "name": "stdout",
     "output_type": "stream",
     "text": [
      "Solutions:\n",
      " [-2.4  1.4  0.4]\n"
     ]
    }
   ],
   "source": [
    "# Powered By Jupyter Notebook\n",
    "# System linear equation\n",
    "# Simplified Matrix form for this system (Ax = b). \n",
    "# C.1 Find determinant of A without using recursion \n",
    "# Using Library function from Python\n",
    "import numpy as np\n",
    "# define matrix A using Numpy arrays\n",
    "#𝑥 + 3𝑦 − 2𝑧  #3𝑥 + 2𝑦 + 6𝑧  #2𝑥 + 4𝑦 + 3𝑧\n",
    "A = np.array([[1, 3, -2],[3, 2, 6],[2, 4, 3]]) \n",
    "\n",
    "#define matrix    B\n",
    "# 𝑥 + 3𝑦 − 2𝑧 = 1 \n",
    "#3𝑥 + 2𝑦 + 6𝑧 = −2\n",
    "#2𝑥 + 4𝑦 + 3𝑧 = 2 \n",
    "B = np.array([1, -2, 2]) \n",
    "\n",
    "# linalg.solve is the function of NumPy to solve a system of linear scalar equations\n",
    "print (\"Solutions:\\n\",np.linalg.solve(A, B ))\n",
    "# Result Solutions:  [-2.4  1.4  0.4]"
   ]
  },
  {
   "cell_type": "code",
   "execution_count": 2,
   "metadata": {},
   "outputs": [
    {
     "name": "stdout",
     "output_type": "stream",
     "text": [
      "x= -2.4 y= 1.4 z= 0.4\n"
     ]
    }
   ],
   "source": [
    "# C.2 Find x, y, and z using Cramer’s rule. \n",
    "from numpy import linalg    \n",
    "# 𝑥 + 3𝑦 − 2𝑧 = 1 \n",
    "#3𝑥 + 2𝑦 + 6𝑧 = −2\n",
    "#2𝑥 + 4𝑦 + 3𝑧 = 2     \n",
    "#1 3 -2\n",
    "# 3 2 6\n",
    "#2 4 3\n",
    "A=[[1,3,-2],[3,2,6],[2,4,3]]\n",
    "# B is equal 1 , -2 , 2 \n",
    "B=[1,-2,2]\n",
    "C=[[1,3,-2],[3,2,6],[2,4,3]]\n",
    "X=[]\n",
    "for i in range(0,len(B)):\n",
    "    for j in range(0,len(B)):\n",
    "        C[j][i]=B[j]\n",
    "        if i>0:\n",
    "            C[j][i-1]=A[j][i-1]\n",
    "            # Use linalg or Linear Algebra Library to find Determinant\n",
    "    X.append(round(linalg.det(C)/linalg.det(A),1)) \n",
    "print(\"x=\",X[0],'y=',X[1],'z=',X[2])\n",
    "# Result x= -2.4 y= 1.4 z= 0.4"
   ]
  },
  {
   "cell_type": "code",
   "execution_count": 3,
   "metadata": {},
   "outputs": [
    {
     "name": "stdout",
     "output_type": "stream",
     "text": [
      "[[ 0.72  0.68 -0.88]\n",
      " [-0.12 -0.28  0.48]\n",
      " [-0.32 -0.08  0.28]]\n"
     ]
    }
   ],
   "source": [
    "#C.3.1 Find Inverse of A by Minor\n",
    "# Use linalg or Linear Algebra Library to solve Inverse\n",
    "A=[[1,3,-2],[3,2,6],[2,4,3]]\n",
    "Minor = np.linalg.inv(A)\n",
    "print(Minor)\n",
    "# Result [[ 0.72  0.68 -0.88]\n",
    "#           [-0.12 -0.28  0.48]\n",
    "#          [-0.32 -0.08  0.28]]"
   ]
  },
  {
   "cell_type": "code",
   "execution_count": 4,
   "metadata": {},
   "outputs": [
    {
     "name": "stdout",
     "output_type": "stream",
     "text": [
      "[[-18.   3.   8.]\n",
      " [-17.   7.   2.]\n",
      " [ 22. -12.  -7.]]\n"
     ]
    }
   ],
   "source": [
    "#C.3.2 Find Inverse by using Cofactor\n",
    "A=[[1,3,-2],[3,2,6],[2,4,3]]\n",
    "# Use linalg or Linear Algebra Library to find by inverse * determinant\n",
    "Cofactor =  np.linalg.inv(A).T * np.linalg.det(A)\n",
    "print(Cofactor)"
   ]
  },
  {
   "cell_type": "code",
   "execution_count": 5,
   "metadata": {},
   "outputs": [
    {
     "name": "stdout",
     "output_type": "stream",
     "text": [
      "[[-18. -17.  22.]\n",
      " [  3.   7. -12.]\n",
      " [  8.   2.  -7.]]\n"
     ]
    }
   ],
   "source": [
    "#C.3.3 Find Inverse by using Adjugate\n",
    "import numpy as np\n",
    "# us Numpy or Numeric Python Package to find transpose from cofactor\n",
    "print(np.transpose(Cofactor))"
   ]
  },
  {
   "cell_type": "code",
   "execution_count": null,
   "metadata": {},
   "outputs": [],
   "source": []
  }
 ],
 "metadata": {
  "kernelspec": {
   "display_name": "Python 3",
   "language": "python",
   "name": "python3"
  },
  "language_info": {
   "codemirror_mode": {
    "name": "ipython",
    "version": 3
   },
   "file_extension": ".py",
   "mimetype": "text/x-python",
   "name": "python",
   "nbconvert_exporter": "python",
   "pygments_lexer": "ipython3",
   "version": "3.7.0"
  }
 },
 "nbformat": 4,
 "nbformat_minor": 2
}
