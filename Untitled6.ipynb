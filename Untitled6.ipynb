{
 "cells": [
  {
   "cell_type": "code",
   "execution_count": 1,
   "metadata": {},
   "outputs": [
    {
     "name": "stdout",
     "output_type": "stream",
     "text": [
      "[1, 2, 5]\n"
     ]
    }
   ],
   "source": [
    ">>> a = [1,2,3]\n",
    ">>> a[2] = 5\n",
    ">>> print(a)\n"
   ]
  },
  {
   "cell_type": "code",
   "execution_count": 2,
   "metadata": {},
   "outputs": [
    {
     "name": "stdout",
     "output_type": "stream",
     "text": [
      "[1, 2, 3]\n",
      "[1, 2, 3, 0, 0, 0, 0, 0]\n"
     ]
    }
   ],
   "source": [
    ">>> a = [1,2,3]\n",
    ">>> print(a)\n",
    ">>> a.extend([0]*5)\n",
    ">>> print(a)"
   ]
  },
  {
   "cell_type": "code",
   "execution_count": 4,
   "metadata": {},
   "outputs": [
    {
     "name": "stdout",
     "output_type": "stream",
     "text": [
      "[]\n",
      "['S', 'M', 'L', 'XL']\n"
     ]
    }
   ],
   "source": [
    ">>> size = [ ]\n",
    ">>> print(size)\n",
    ">>> size.append('S')\n",
    ">>> size.append('M')\n",
    ">>> size.append('L')\n",
    ">>> size.append('XL')\n",
    ">>> print(size)\n"
   ]
  },
  {
   "cell_type": "code",
   "execution_count": 7,
   "metadata": {},
   "outputs": [
    {
     "name": "stdout",
     "output_type": "stream",
     "text": [
      "['S', 'M', 'L', 'XL']\n",
      "S\n",
      "M\n",
      "L\n",
      "XL\n"
     ]
    }
   ],
   "source": [
    ">>> size = ['S','M','L','XL']\n",
    ">>> print(size)\n",
    ">>> for i in size:\n",
    ">>>   print(i)\n"
   ]
  },
  {
   "cell_type": "code",
   "execution_count": 18,
   "metadata": {},
   "outputs": [
    {
     "name": "stdout",
     "output_type": "stream",
     "text": [
      "['S', 'M', 'L', 'XL']\n",
      "[28, 30, 32, 34]\n"
     ]
    }
   ],
   "source": [
    "size = ['S','M','L','XL']\n",
    "waist_inch = [28,30,32,34]\n",
    "for i in size,waist_inch:\n",
    "    print(i)\n"
   ]
  },
  {
   "cell_type": "code",
   "execution_count": 32,
   "metadata": {},
   "outputs": [
    {
     "name": "stdout",
     "output_type": "stream",
     "text": [
      "[0, 1, 2, 3, 4, 5, 6, 7, 8, 9, 10, 11, 12, 13, 14, 15, 16, 17, 18, 19, 20, 21, 22, 23, 24, 25, 26, 27, 28, 29, 30, 31, 32, 33, 34, 35, 36, 37, 38, 39, 40, 41, 42, 43, 44, 45, 46, 47, 48, 49, 50, 51, 52, 53, 54, 55, 56, 57, 58, 59, 60, 61, 62, 63, 64, 65, 66, 67, 68, 69, 70, 71, 72, 73, 74, 75, 76, 77, 78, 79, 80, 81, 82, 83, 84, 85, 86, 87, 88, 89, 90, 91, 92, 93, 94, 95, 96, 97, 98, 99]\n"
     ]
    }
   ],
   "source": [
    ">>> waist_cm = [x for x in range(100)]\n",
    ">>> print(waist_cm)"
   ]
  },
  {
   "cell_type": "code",
   "execution_count": 24,
   "metadata": {},
   "outputs": [
    {
     "name": "stdout",
     "output_type": "stream",
     "text": [
      "[71.12, 0, 0, 0]\n",
      "[71.12, 76.2, 0, 0]\n",
      "[71.12, 76.2, 81.28, 0]\n",
      "[71.12, 76.2, 81.28, 86.36]\n"
     ]
    }
   ],
   "source": [
    ">>> size = ['S','M','L','XL']\n",
    ">>> waist_inch = [28,30,32,34]\n",
    ">>> waist_cm = [0 for x in range(4)]\n",
    ">>> for i in range(len(waist_inch)):\n",
    ">>>  waist_cm[i] = waist_inch[i]*2.54\n",
    ">>>  print(waist_cm)"
   ]
  },
  {
   "cell_type": "code",
   "execution_count": 25,
   "metadata": {},
   "outputs": [
    {
     "name": "stdout",
     "output_type": "stream",
     "text": [
      "[93.98, 99.06, 106.68, 114.3]\n"
     ]
    }
   ],
   "source": [
    ">>> hip_inch = [37,39,42,45]\n",
    ">>> hip_cm = [hip_inch[i]*2.54 for i in range(len(hip_inch))]\n",
    ">>> print(hip_cm)"
   ]
  },
  {
   "cell_type": "code",
   "execution_count": 28,
   "metadata": {},
   "outputs": [
    {
     "name": "stdout",
     "output_type": "stream",
     "text": [
      "[['S', 'M', 'L', 'XL'], [28, 30, 32, 34], [37, 39, 42, 45], [71.12], [93.98]]\n",
      "[['S', 'M', 'L', 'XL'], [28, 30, 32, 34], [37, 39, 42, 45], [71.12, 76.2], [93.98, 99.06]]\n",
      "[['S', 'M', 'L', 'XL'], [28, 30, 32, 34], [37, 39, 42, 45], [71.12, 76.2, 81.28], [93.98, 99.06, 106.68]]\n",
      "[['S', 'M', 'L', 'XL'], [28, 30, 32, 34], [37, 39, 42, 45], [71.12, 76.2, 81.28, 86.36], [93.98, 99.06, 106.68, 114.3]]\n"
     ]
    }
   ],
   "source": [
    ">>> size = [['S','M','L','XL'],[28,30,32,34],[37,39,42,45],[ ],[ ]]\n",
    ">>> for i in range(len(size[0])):\n",
    ">>>  size[3].append(size[1][i]*2.54)\n",
    ">>>  size[4].append(size[2][i]*2.54)\n",
    ">>>  print(size)\n"
   ]
  },
  {
   "cell_type": "code",
   "execution_count": 29,
   "metadata": {},
   "outputs": [
    {
     "name": "stdout",
     "output_type": "stream",
     "text": [
      "[1 2 3]\n",
      "[[ 4  5  6  7]\n",
      " [ 8  9 10 11]]\n"
     ]
    }
   ],
   "source": [
    ">>> import numpy as np\n",
    ">>> a = np.array([1,2,3])\n",
    ">>> b = np.array([(4,5,6,7),(8,9,10,11)])\n",
    "print(a)\n",
    "print(b)"
   ]
  },
  {
   "cell_type": "code",
   "execution_count": 34,
   "metadata": {},
   "outputs": [
    {
     "name": "stdout",
     "output_type": "stream",
     "text": [
      "[1, 2, 3, 1, 2, 3, 1, 2, 3]\n",
      "[3 6 9]\n",
      "\n",
      "[4 5 6]\n"
     ]
    }
   ],
   "source": [
    ">>> import numpy as np\n",
    ">>> a = [1,2,3]\n",
    ">>> b = np.array(a)\n",
    ">>> print(a*3)\n",
    ">>> print(b*3)\n",
    ">>> print(a+3)\n",
    ">>> print(b+3)\n"
   ]
  },
  {
   "cell_type": "code",
   "execution_count": 61,
   "metadata": {},
   "outputs": [
    {
     "name": "stdout",
     "output_type": "stream",
     "text": [
      "[ 0  1  2  3  4  5  6  7  8  9 10 11 12 13 14]\n",
      "[[[ 0]\n",
      "  [ 1]\n",
      "  [ 2]\n",
      "  [ 3]\n",
      "  [ 4]]\n",
      "\n",
      " [[ 5]\n",
      "  [ 6]\n",
      "  [ 7]\n",
      "  [ 8]\n",
      "  [ 9]]\n",
      "\n",
      " [[10]\n",
      "  [11]\n",
      "  [12]\n",
      "  [13]\n",
      "  [14]]]\n"
     ]
    }
   ],
   "source": [
    ">>> import numpy as np\n",
    ">>> a = np.arange(15)\n",
    ">>> print(a)\n",
    ">>> print(a.reshape(3, 5,1))"
   ]
  },
  {
   "cell_type": "code",
   "execution_count": 43,
   "metadata": {},
   "outputs": [
    {
     "name": "stdout",
     "output_type": "stream",
     "text": [
      "[[0. 0. 0.]\n",
      " [0. 0. 0.]\n",
      " [0. 0. 0.]]\n",
      "[[1. 1. 1. 1. 1. 1.]\n",
      " [1. 1. 1. 1. 1. 1.]\n",
      " [1. 1. 1. 1. 1. 1.]\n",
      " [1. 1. 1. 1. 1. 1.]\n",
      " [1. 1. 1. 1. 1. 1.]\n",
      " [1. 1. 1. 1. 1. 1.]]\n",
      "[[3.37066569e-316 6.27463370e-322 0.00000000e+000 0.00000000e+000\n",
      "  0.00000000e+000]\n",
      " [5.30276956e+180 5.05117710e-038 6.97532000e-076 4.66578102e-086\n",
      "  3.35909895e-143]\n",
      " [6.01433264e+175 6.93885958e+218 5.56218858e+180 3.94356143e+180\n",
      "  3.56654427e-057]\n",
      " [8.60852763e-067 4.65625425e-033 2.37941715e+184 8.07491641e-144\n",
      "  1.50008929e+248]]\n"
     ]
    }
   ],
   "source": [
    ">>> a = np.zeros((3,3))\n",
    ">>> print(a)\n",
    ">>> b = np.ones((6,6))\n",
    ">>> print(b)\n",
    ">>> c = np.empty((4,5))\n",
    ">>> print(c)\n"
   ]
  },
  {
   "cell_type": "code",
   "execution_count": 44,
   "metadata": {},
   "outputs": [
    {
     "name": "stdout",
     "output_type": "stream",
     "text": [
      "9\n",
      "(3, 3)\n",
      "2\n",
      "float64\n",
      "36\n",
      "(6, 6)\n",
      "2\n",
      "float64\n",
      "20\n",
      "(4, 5)\n",
      "2\n",
      "float64\n"
     ]
    }
   ],
   "source": [
    ">>> print(a.size)\n",
    ">>> print(a.shape)\n",
    ">>> print(a.ndim)\n",
    ">>> print(a.dtype)\n",
    ">>> print(b.size)\n",
    ">>> print(b.shape)\n",
    ">>> print(b.ndim)\n",
    ">>> print(b.dtype)\n",
    ">>> print(c.size)\n",
    ">>> print(c.shape)\n",
    ">>> print(c.ndim)\n",
    ">>> print(c.dtype)"
   ]
  },
  {
   "cell_type": "code",
   "execution_count": 45,
   "metadata": {},
   "outputs": [
    {
     "name": "stdout",
     "output_type": "stream",
     "text": [
      "[0 1 2 3]\n",
      "[[0 1 2 3]\n",
      " [4 5 6 7]]\n",
      "[1. 1. 1. 1.]\n",
      "[1. 2. 3. 4.]\n",
      "[[-1.  0.  1.  2.]\n",
      " [ 3.  4.  5.  6.]]\n"
     ]
    }
   ],
   "source": [
    ">>> a = np.arange(4)\n",
    ">>> b = np.arange(8).reshape(2,4)\n",
    ">>> c = np.ones(4)\n",
    ">>> print(a)\n",
    ">>> print(b)\n",
    ">>> print(c)\n",
    ">>> print(a+c)\n",
    ">>> print(b-c)"
   ]
  },
  {
   "cell_type": "code",
   "execution_count": 46,
   "metadata": {},
   "outputs": [
    {
     "name": "stdout",
     "output_type": "stream",
     "text": [
      "[0 1 2 3]\n",
      "[[0 1 2 3]\n",
      " [4 5 6 7]]\n",
      "[1. 1. 1. 1.]\n",
      "[1. 2. 3. 4.]\n",
      "[[-1.  0.  1.  2.]\n",
      " [ 3.  4.  5.  6.]]\n",
      "[5 6 7 8]\n"
     ]
    }
   ],
   "source": [
    ">>> a = np.arange(4)\n",
    ">>> b = np.arange(8).reshape(2,4)\n",
    ">>> c = np.ones(4)\n",
    ">>> print(a)\n",
    ">>> print(b)\n",
    ">>> print(c)\n",
    ">>> print(a+c)\n",
    ">>> print(b-c)\n",
    ">>> print(a+5)"
   ]
  },
  {
   "cell_type": "code",
   "execution_count": 48,
   "metadata": {},
   "outputs": [
    {
     "name": "stdout",
     "output_type": "stream",
     "text": [
      "6\n",
      "[ 4  6  8 10]\n",
      "0\n",
      "[3 7]\n",
      "[[ 0  1  3  6]\n",
      " [ 4  9 15 22]]\n"
     ]
    }
   ],
   "source": [
    ">>> a = np.arange(4)\n",
    ">>> b = np.arange(8).reshape(2,4)\n",
    ">>> print(a.sum())\n",
    ">>> print(b.sum(axis=0))\n",
    ">>> print(a.min())\n",
    ">>> print(b.max(axis=1))\n",
    ">>> print(b.cumsum(axis=1))"
   ]
  },
  {
   "cell_type": "code",
   "execution_count": 49,
   "metadata": {},
   "outputs": [
    {
     "name": "stdout",
     "output_type": "stream",
     "text": [
      "[ 0  1  2  3  4  5  6  7  8  9 10 11 12 13 14 15 16 17 18 19]\n",
      "[ 3  4  5  6  7  8  9 10]\n",
      "[ 2  7 12]\n",
      "[ 4  9 14 19]\n"
     ]
    }
   ],
   "source": [
    ">>> a = np.arange(20)\n",
    ">>> print(a)\n",
    ">>> print(a[3:11])\n",
    ">>> print(a[2:16:5])\n",
    ">>> print(a[4::5])\n"
   ]
  },
  {
   "cell_type": "code",
   "execution_count": 50,
   "metadata": {},
   "outputs": [
    {
     "name": "stdout",
     "output_type": "stream",
     "text": [
      "[[ 0  1  2  3  4]\n",
      " [ 5  6  7  8  9]\n",
      " [10 11 12 13 14]\n",
      " [15 16 17 18 19]\n",
      " [20 21 22 23 24]\n",
      " [25 26 27 28 29]]\n",
      "[[15 16 17 18 19]\n",
      " [20 21 22 23 24]]\n",
      "[[ 5  6  7  8  9]\n",
      " [15 16 17 18 19]\n",
      " [25 26 27 28 29]]\n",
      "[[20 21 22 23 24]\n",
      " [25 26 27 28 29]]\n"
     ]
    }
   ],
   "source": [
    ">>> a = np.arange(30).reshape(6,5)\n",
    ">>> print(a)\n",
    ">>> print(a[3:5])\n",
    ">>> print(a[1::2])\n",
    ">>> print(a[4:])"
   ]
  },
  {
   "cell_type": "code",
   "execution_count": 51,
   "metadata": {},
   "outputs": [
    {
     "name": "stdout",
     "output_type": "stream",
     "text": [
      "[[ 0  1  2  3  4]\n",
      " [ 5  6  7  8  9]\n",
      " [10 11 12 13 14]\n",
      " [15 16 17 18 19]\n",
      " [20 21 22 23 24]\n",
      " [25 26 27 28 29]]\n",
      "[[ 1  2]\n",
      " [ 6  7]\n",
      " [11 12]\n",
      " [16 17]\n",
      " [21 22]]\n",
      "[[ 6  7  8]\n",
      " [11 12 13]\n",
      " [16 17 18]]\n",
      "[[ 1  4]\n",
      " [ 6  9]\n",
      " [11 14]\n",
      " [16 19]\n",
      " [21 24]]\n"
     ]
    }
   ],
   "source": [
    ">>> a = np.arange(30).reshape(6,5)\n",
    ">>> print(a)\n",
    ">>> print(a[0:5,1:3])\n",
    ">>> print(a[1:4,1:4])\n",
    ">>> print(a[0:5,1::3])"
   ]
  },
  {
   "cell_type": "code",
   "execution_count": 53,
   "metadata": {},
   "outputs": [
    {
     "name": "stdout",
     "output_type": "stream",
     "text": [
      "[['S' 'M' 'L' 'XL']\n",
      " ['28' '30' '32' '34']\n",
      " ['37' '39' '42' '45']]\n",
      "[['L' 'XL']\n",
      " ['32' '34']\n",
      " ['42' '45']]\n"
     ]
    }
   ],
   "source": [
    ">>> size = np.array([['S','M','L','XL'],[28,30,32,34],[37,39,42,45]])\n",
    ">>> print(size)\n",
    ">>> chubby_customer = size[:,2:]\n",
    ">>> print(chubby_customer)"
   ]
  },
  {
   "cell_type": "code",
   "execution_count": 55,
   "metadata": {},
   "outputs": [
    {
     "name": "stdout",
     "output_type": "stream",
     "text": [
      "[0 1 2 3 4]\n",
      "[5 6 7 8 9]\n",
      "[10 11 12 13 14]\n",
      "[15 16 17 18 19]\n",
      "[20 21 22 23 24]\n",
      "[25 26 27 28 29]\n",
      "0\n",
      "1\n",
      "2\n",
      "3\n",
      "4\n",
      "5\n",
      "6\n",
      "7\n",
      "8\n",
      "9\n",
      "10\n",
      "11\n",
      "12\n",
      "13\n",
      "14\n",
      "15\n",
      "16\n",
      "17\n",
      "18\n",
      "19\n",
      "20\n",
      "21\n",
      "22\n",
      "23\n",
      "24\n",
      "25\n",
      "26\n",
      "27\n",
      "28\n",
      "29\n"
     ]
    }
   ],
   "source": [
    ">>> for row in a:\n",
    ">>>  print(row)\n",
    ">>> for element in a.flat:\n",
    ">>>  print (element)\n"
   ]
  },
  {
   "cell_type": "code",
   "execution_count": 56,
   "metadata": {},
   "outputs": [
    {
     "name": "stdout",
     "output_type": "stream",
     "text": [
      "[[1 2 3]\n",
      " [4 5 6]\n",
      " [7 8 9]]\n",
      "[[ 1  3  5]\n",
      " [ 7  9 11]\n",
      " [13 15 17]]\n",
      "[[1 4 7]\n",
      " [2 5 8]\n",
      " [3 6 9]]\n",
      "[[ 54  66  78]\n",
      " [117 147 177]\n",
      " [180 228 276]]\n",
      "[[ 54  66  78]\n",
      " [117 147 177]\n",
      " [180 228 276]]\n"
     ]
    }
   ],
   "source": [
    ">>> a = np.matrix([[1,2,3],[4,5,6],[7,8,9]])\n",
    ">>> b = np.matrix([[1,3,5],[7,9,11],[13,15,17]])\n",
    ">>> print(a)\n",
    ">>> print(b)\n",
    ">>> print(a.transpose())\n",
    ">>> print(a*b)\n",
    ">>> print(np.dot(a,b))\n"
   ]
  },
  {
   "cell_type": "code",
   "execution_count": null,
   "metadata": {},
   "outputs": [],
   "source": []
  }
 ],
 "metadata": {
  "kernelspec": {
   "display_name": "Python 3",
   "language": "python",
   "name": "python3"
  },
  "language_info": {
   "codemirror_mode": {
    "name": "ipython",
    "version": 3
   },
   "file_extension": ".py",
   "mimetype": "text/x-python",
   "name": "python",
   "nbconvert_exporter": "python",
   "pygments_lexer": "ipython3",
   "version": "3.6.5"
  }
 },
 "nbformat": 4,
 "nbformat_minor": 2
}
