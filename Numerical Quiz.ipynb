{
 "cells": [
  {
   "cell_type": "code",
   "execution_count": 1,
   "metadata": {},
   "outputs": [
    {
     "name": "stdout",
     "output_type": "stream",
     "text": [
      "Enter an integer: -27\n",
      "Cube root of -27 is -3.0\n"
     ]
    }
   ],
   "source": [
    "# Problem 1\n",
    "# solve the cube root number N\n",
    "x = int(input(\"Enter an integer: \"))\n",
    "if x>0:\n",
    "    ans = x**(1./3.)\n",
    "    if ans ** 3 != abs(x):\n",
    "        print(x, 'is not a perfect cube!')\n",
    "else:\n",
    "    ans = -((-x)**(1./3.))\n",
    "    if ans ** 3 != -abs(x):\n",
    "        print(x, 'is not a perfect cube!')\n",
    "\n",
    "print('Cube root of ' + str(x) + ' is ' + str(ans)) #x = sqrt 3(N)"
   ]
  },
  {
   "cell_type": "code",
   "execution_count": null,
   "metadata": {},
   "outputs": [],
   "source": []
  },
  {
   "cell_type": "code",
   "execution_count": 19,
   "metadata": {},
   "outputs": [
    {
     "name": "stdout",
     "output_type": "stream",
     "text": [
      "1.6180339887499486\n"
     ]
    }
   ],
   "source": [
    "#A python program to approximate a root of a polynomial\n",
    "#using the newton-raphson method\n",
    "import math\n",
    "#f(x) - the function of the polynomial\n",
    "def f(x):\n",
    "    function = (x*x*x) - (2*x) - 1\n",
    "    return function\n",
    "\n",
    "def derivative(x): #function to find the derivative of the polynomial\n",
    "    h = 0.000001\n",
    "    derivative = (f(x + h) - f(x)) / h\n",
    "    return derivative\n",
    "\n",
    "def newton_raphson(x):\n",
    "    return (x - (f(x) / derivative(x)))\n",
    "\n",
    "# p - the initial point i.e. a value closer to the root\n",
    "# n - number of iterations \n",
    "def iterate(p, n): #\n",
    "    x = 0\n",
    "    for i in range(n):\n",
    "        if i == 0: #calculate first approximation\n",
    "            x = newton_raphson(p)\n",
    "        else:\n",
    "        #iterate the first and subsequent approximations\n",
    "            x = newton_raphson(iterate(x, n)) \n",
    "        n=n-1\n",
    "    return x\n",
    "            \n",
    "#print the root of the polynomial x^3 - 2x - 1 using 3 iterations and taking initial point as 1\n",
    "print(iterate(1, 3))"
   ]
  },
  {
   "cell_type": "code",
   "execution_count": 22,
   "metadata": {},
   "outputs": [
    {
     "name": "stdout",
     "output_type": "stream",
     "text": [
      "The value of the root is :  -1.0000\n"
     ]
    }
   ],
   "source": [
    "def func( x ): \n",
    "    return x * x * x - x * x + 2\n",
    "  \n",
    "# Derivative of the above function  \n",
    "# which is 3*x^x - 2*x \n",
    "def derivFunc( x ): \n",
    "    return 3 * x * x - 2 * x \n",
    "  \n",
    "# Function to find the root \n",
    "def newtonRaphson( x ): \n",
    "    h = func(x) / derivFunc(x) \n",
    "    while abs(h) >= 0.0001: \n",
    "        h = func(x)/derivFunc(x) \n",
    "          \n",
    "        # x(i+1) = x(i) - f(x) / f'(x) \n",
    "        x = x - h \n",
    "      \n",
    "    print(\"The value of the root is : \",  \"%.4f\"% x) \n",
    "  \n",
    "# Driver program to test above \n",
    "x0 = -20 # Initial values assumed \n",
    "newtonRaphson(x0) "
   ]
  },
  {
   "cell_type": "code",
   "execution_count": 4,
   "metadata": {},
   "outputs": [
    {
     "name": "stdout",
     "output_type": "stream",
     "text": [
      "f( 3.8 ) =  10.879999999999999\n",
      "f( 2.7333333333333343 ) =  2.2755555555555613\n",
      "f( 2.349812734082398 ) =  0.29417610009959816\n",
      "solution: x =  2.2829431455189786\n"
     ]
    }
   ],
   "source": [
    "#Problem 1.1\n",
    "# Solve For Quadratic function\n",
    "def derivative(f, x, h):\n",
    "      return (f(x+h) - f(x-h)) / (2.0*h)  # might want to return a small non-zero if ==0\n",
    "\n",
    "def quadratic(x):\n",
    "    return 2*x*x-5*x+1     # just a function to show it works\n",
    "\n",
    "def solve(f, x0, h):\n",
    "    lastX = x0\n",
    "    nextX = lastX + 10* h  # \"different than lastX so loop starts OK\n",
    "    while (abs(lastX - nextX) > h):  # this is how you terminate the loop - note use of abs()\n",
    "        newY = f(nextX)                     # just for debug... see what happens\n",
    "        print (\"f(\", nextX, \") = \", newY)    # print out progress... again just debug\n",
    "        lastX = nextX\n",
    "        nextX = lastX - newY / derivative(f, lastX, h)  # update estimate using N-R\n",
    "    return nextX\n",
    "\n",
    "xFound = solve(quadratic, 3, 0.08)    # call the solver input number \n",
    "print (\"solution: x = \", xFound)        # print the result"
   ]
  },
  {
   "cell_type": "code",
   "execution_count": 137,
   "metadata": {},
   "outputs": [
    {
     "data": {
      "text/plain": [
       "2.000097471691286"
      ]
     },
     "execution_count": 137,
     "metadata": {},
     "output_type": "execute_result"
    }
   ],
   "source": [
    "import numpy as np\n",
    "x=0.1565# for the answer is 2\n",
    "np.log1p(x)-( np.log(x)) \n"
   ]
  },
  {
   "cell_type": "code",
   "execution_count": 119,
   "metadata": {},
   "outputs": [
    {
     "data": {
      "image/png": "[encoded data removed]",
      "text/plain": [
       "<Figure size 360x360 with 2 Axes>"
      ]
     },
     "metadata": {
      "needs_background": "light"
     },
     "output_type": "display_data"
    }
   ],
   "source": [
    "#define the function\n",
    "f = lambda x,a : a * x**2\n",
    "#set values\n",
    "a=0.1565\n",
    "x = np.linspace(2,0.1565)\n",
    "#calculate the values of the function at the given points\n",
    "y =  f(x,a)\n",
    "y2 = np.log1p(y)-( np.log(y)) \n",
    "# y and y2 are now arrays which we can plot\n",
    "#plot the resulting arrays\n",
    "fig, ax = plt.subplots(1,2, figsize=(5,5))\n",
    "ax[0].set_title(\"plot y = f(x,a)\")\n",
    "ax[0].plot(x,y) # .. \"plot f\"\n",
    "ax[1].set_title(\"plot np.log1p(y)-( np.log(y))\")\n",
    "ax[1].plot(x,y2) # .. \"plot logarithm of f\"\n",
    "plt.show()"
   ]
  },
  {
   "cell_type": "code",
   "execution_count": null,
   "metadata": {},
   "outputs": [],
   "source": []
  },
  {
   "cell_type": "code",
   "execution_count": null,
   "metadata": {},
   "outputs": [],
   "source": [
    "#define the function\n",
    "f = lambda x,a : a * x**2\n",
    "#set values\n",
    "a=0.1565\n",
    "x = np.linspace(2,0.1565)\n",
    "#calculate the values of the function at the given points\n",
    "y =  f(x,a)\n",
    "y2 = np.log1p(y)-( np.log(y)) \n",
    "# y and y2 are now arrays which we can plot\n",
    "#plot the resulting arrays\n",
    "fig, ax = plt.subplots(1,2, figsize=(5,5))\n",
    "ax[0].set_title(\"plot y = f(x,a)\")\n",
    "ax[0].plot(x,y) # .. \"plot f\"\n",
    "ax[1].set_title(\"plot np.log1p(y)-( np.log(y))\")\n",
    "ax[1].plot(x,y2) # .. \"plot logarithm of f\"\n",
    "plt.show()"
   ]
  },
  {
   "cell_type": "code",
   "execution_count": null,
   "metadata": {},
   "outputs": [],
   "source": []
  }
 ],
 "metadata": {
  "kernelspec": {
   "display_name": "Python 3",
   "language": "python",
   "name": "python3"
  },
  "language_info": {
   "codemirror_mode": {
    "name": "ipython",
    "version": 3
   },
   "file_extension": ".py",
   "mimetype": "text/x-python",
   "name": "python",
   "nbconvert_exporter": "python",
   "pygments_lexer": "ipython3",
   "version": "3.7.0"
  }
 },
 "nbformat": 4,
 "nbformat_minor": 2
}
