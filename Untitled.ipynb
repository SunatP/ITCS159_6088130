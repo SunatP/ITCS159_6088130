{
 "cells": [
  {
   "cell_type": "code",
   "execution_count": 1,
   "metadata": {},
   "outputs": [
    {
     "name": "stdout",
     "output_type": "stream",
     "text": [
      "Solutions:\n",
      " [-2.4  1.4  0.4]\n"
     ]
    }
   ],
   "source": [
    "# System linear equation\n",
    "# Simplified Matrix form for this system (Ax = b). \n",
    "# C.1 Find determinant of A without using recursion \n",
    "# Using Library function from Python\n",
    "import numpy as np\n",
    "# define matrix A using Numpy arrays\n",
    "#𝑥 + 3𝑦 − 2𝑧  #3𝑥 + 2𝑦 + 6𝑧  #2𝑥 + 4𝑦 + 3𝑧\n",
    "A = np.array([[1, 3, -2],[3, 2, 6],[2, 4, 3]]) \n",
    "\n",
    "#define matrix    B\n",
    "# 𝑥 + 3𝑦 − 2𝑧 = 1 \n",
    "#3𝑥 + 2𝑦 + 6𝑧 = −2\n",
    "#2𝑥 + 4𝑦 + 3𝑧 = 2 \n",
    "B = np.array([1, -2, 2]) \n",
    "\n",
    "# linalg.solve is the function of NumPy to solve a system of linear scalar equations\n",
    "print (\"Solutions:\\n\",np.linalg.solve(A, B ))\n"
   ]
  },
  {
   "cell_type": "code",
   "execution_count": 25,
   "metadata": {},
   "outputs": [
    {
     "name": "stdout",
     "output_type": "stream",
     "text": [
      "x= -2.4 y= 1.4 z= 0.4\n"
     ]
    }
   ],
   "source": [
    "# C.2 Find x, y, and z using Cramer’s rule. \n",
    "from numpy import linalg\n",
    " # 2 w − x + 5 y + z = − 3 \n",
    "#3 w + 2 x + 2 y − 6 z = − 32 \n",
    "#w + 3 x + 3 y − z = − 47 \n",
    "#5 w − 2 x − 3 y + 3 z = 49 \n",
    "    \n",
    "# 𝑥 + 3𝑦 − 2𝑧 = 1 \n",
    "#3𝑥 + 2𝑦 + 6𝑧 = −2\n",
    "#2𝑥 + 4𝑦 + 3𝑧 = 2     \n",
    "#1 3 -2\n",
    "# 3 2 6\n",
    "#2 4 3\n",
    "A=[[1,3,-2],[3,2,6],[2,4,3]]\n",
    "# B is equal 1 , -2 , 2 \n",
    "B=[1,-2,2]\n",
    "C=[[1,3,-2],[3,2,6],[2,4,3]]\n",
    "X=[]\n",
    "for i in range(0,len(B)):\n",
    "    for j in range(0,len(B)):\n",
    "        C[j][i]=B[j]\n",
    "        if i>0:\n",
    "            C[j][i-1]=A[j][i-1]\n",
    "    X.append(round(linalg.det(C)/linalg.det(A),1)) \n",
    "print(\"x=\",X[0],'y=',X[1],'z=',X[2])\n"
   ]
  },
  {
   "cell_type": "code",
   "execution_count": 28,
   "metadata": {},
   "outputs": [
    {
     "name": "stdout",
     "output_type": "stream",
     "text": [
      "[[ 0.72  0.68 -0.88]\n",
      " [-0.12 -0.28  0.48]\n",
      " [-0.32 -0.08  0.28]]\n"
     ]
    }
   ],
   "source": [
    "#C3.1 Find Inverse of A by Minor\n",
    "A=[[1,3,-2],[3,2,6],[2,4,3]]\n",
    "Minor = np.linalg.inv(A)\n",
    "print(Minor)"
   ]
  },
  {
   "cell_type": "code",
   "execution_count": 31,
   "metadata": {},
   "outputs": [
    {
     "name": "stdout",
     "output_type": "stream",
     "text": [
      "[[-18.   3.   8.]\n",
      " [-17.   7.   2.]\n",
      " [ 22. -12.  -7.]]\n"
     ]
    }
   ],
   "source": [
    "#C3.2 Find Inverse by using Cofactor\n",
    "A=[[1,3,-2],[3,2,6],[2,4,3]]\n",
    "Cofactor =  np.linalg.inv(A).T * np.linalg.det(A)\n",
    "print(Cofactor)"
   ]
  },
  {
   "cell_type": "code",
   "execution_count": 39,
   "metadata": {},
   "outputs": [
    {
     "name": "stdout",
     "output_type": "stream",
     "text": [
      "[[-18. -17.  22.]\n",
      " [  3.   7. -12.]\n",
      " [  8.   2.  -7.]]\n"
     ]
    }
   ],
   "source": [
    "#C3.3 Find Inverse by using Adjugate\n",
    "print(np.transpose(Cofactor))"
   ]
  },
  {
   "cell_type": "code",
   "execution_count": 77,
   "metadata": {},
   "outputs": [
    {
     "name": "stdout",
     "output_type": "stream",
     "text": [
      "1.6180\n",
      "3.14\n",
      "6.28\n"
     ]
    }
   ],
   "source": [
    "#𝑓(𝑥) = 𝑥 ^3− 6𝑥^2 + 𝑥 − 4\n",
    "# 𝑔(𝑥) = 3sin(𝑥) + cos^2(𝑥)\n",
    "import math as m\n",
    "phi = ((1+m.sqrt(5))/2)\n",
    "print('%.4f' %phi)\n",
    "print('%.2f'%m.pi)\n",
    "print('%.2f'%(m.pi*2))"
   ]
  },
  {
   "cell_type": "code",
   "execution_count": null,
   "metadata": {},
   "outputs": [],
   "source": [
    "import random\n",
    "import numpy as np\n",
    "import matplotlib.pyplot as plt\n",
    "from mpl_toolkits.mplot3d import Axes3D\n",
    "from matplotlib import cm\n",
    "\n",
    "# the objective function\n",
    "def func(x):\n",
    "    return 100*np.square(np.square(x[0])-x[1])+np.square(x[0]-1)\n",
    "\n",
    "# first order derivatives of the function\n",
    "def dfunc(x):\n",
    "    #𝑓(𝑥) = 𝑥 ^3− 6𝑥^2 + 𝑥 − 4\n",
    "# 𝑔(𝑥) = 3sin(𝑥) + cos^2(𝑥)\n",
    "\n",
    "    df1 = 400*x[0]*(np.square(x[0])-x[1])+2*(x[0]-1)\n",
    "    df2 = -200*(np.square(x[0])-x[1])\n",
    "    return np.array([df1, df2])\n",
    "\n",
    "# the armijo algorithm\n",
    "def armijo(valf, grad, niters):\n",
    "    #beta = random.random()\n",
    "    #sigma = random.uniform(0, .5)\n",
    "    beta = 0.25\n",
    "    sigma = 0.25\n",
    "    (miter, iter_conv) = (0, 0)\n",
    "    conval = [0,0]\n",
    "    val = []\n",
    "    objectf = []\n",
    "    val.append(valf)\n",
    "    objectf.append(func(valf))\n",
    "    while miter <= niters:\n",
    "        leftf = func(valf+np.power(beta, miter)*grad)\n",
    "        rightf = func(valf) + sigma*np.power(beta, miter)*dfunc(valf).dot(grad)\n",
    "        if leftf-rightf <= 0:\n",
    "            iter_conv = miter\n",
    "            conval = valf+np.power(beta, iter_conv)*grad\n",
    "            break\n",
    "        miter += 1\n",
    "        val.append(conval)\n",
    "        objectf.append(func(conval))\n",
    "    return conval, func(conval), iter_conv, val, objectf\n",
    "\n",
    "# initialization\n",
    "start = np.array([-.3, .1])\n",
    "direction = np.array([1, -2])\n",
    "maximum_iterations = 30\n",
    "\n",
    "converge_value, minimal, no_iter, val, objf = armijo(start, direction, maximum_iterations)\n",
    "print(\"The value, minimal and number of iterations are \" + str(converge_value) + \\\n",
    "    \", \" + str(minimal) + \", \" + str(no_iter))\n",
    "x = np.array([i[0] for i in val])\n",
    "y = np.array([i[1] for i in val])\n",
    "z = np.array(objf)\n",
    "fig = plt.figure()\n",
    "ax = fig.gca(projection='3d')\n",
    "ax.scatter(x, y, z, label='Armijo Rule')\n",
    "ax.legend()\n",
    "plt.savefig('./res/armijo.jpg')"
   ]
  },
  {
   "cell_type": "code",
   "execution_count": null,
   "metadata": {},
   "outputs": [],
   "source": []
  }
 ],
 "metadata": {
  "kernelspec": {
   "display_name": "Python 3",
   "language": "python",
   "name": "python3"
  },
  "language_info": {
   "codemirror_mode": {
    "name": "ipython",
    "version": 3
   },
   "file_extension": ".py",
   "mimetype": "text/x-python",
   "name": "python",
   "nbconvert_exporter": "python",
   "pygments_lexer": "ipython3",
   "version": "3.7.0"
  }
 },
 "nbformat": 4,
 "nbformat_minor": 2
}
