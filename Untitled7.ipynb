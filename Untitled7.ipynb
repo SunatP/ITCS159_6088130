{
 "cells": [
  {
   "cell_type": "code",
   "execution_count": 35,
   "metadata": {},
   "outputs": [
    {
     "name": "stdout",
     "output_type": "stream",
     "text": [
      "[1 1 3 0 0 0 3 3 3 3 1 2 1 3 3 0 3 3 0 3] [0.24508994 0.08169665 0.18790229 0.11437531 0.04901799 0.19607195\n",
      " 0.38397424 0.30227759 0.1388843  0.10620564 0.40848324 0.\n",
      " 0.08169665 0.10620564 0.22058095 0.03267866 0.35129558 0.26959894\n",
      " 0.29410793 0.02450899]\n"
     ]
    }
   ],
   "source": [
    "import scipy\n",
    "from scipy.cluster.vq import kmeans,vq,whiten\n",
    "#Score of 20 students in on subjects\n",
    "student_scores = [[80], [78], [55], [60], [62],\n",
    "[59], [48], [49], [51], [54],\n",
    "[72], [95], [78], [54], [50],\n",
    "[61], [57], [56], [65], [53]];\n",
    "student_scores = whiten(student_scores)\n",
    "centroids,_ = kmeans(student_scores,4)\n",
    "result,_ = vq(student_scores,centroids)\n",
    "print(result,_)"
   ]
  },
  {
   "cell_type": "code",
   "execution_count": 8,
   "metadata": {},
   "outputs": [
    {
     "name": "stdout",
     "output_type": "stream",
     "text": [
      "[3 0 4 4 1 4 2 1 1 4 3 3 3 2 1 4 4 1 4 2] [0.74322351 0.         0.30344469 0.25510434 0.788078   0.54294617\n",
      " 0.55309433 0.53977258 0.44186413 0.41515528 0.75668663 1.12399692\n",
      " 0.85589167 0.20577439 0.29410793 0.20217578 0.20888861 0.43424597\n",
      " 0.51933576 0.55327316]\n"
     ]
    }
   ],
   "source": [
    "import scipy\n",
    "from scipy.cluster.vq import kmeans,vq,whiten\n",
    "student_scores = [[80,72],[78,56],[55,64],[60,61],[62,45],[59,71],[48,85],[49,45],[51,55],[54,62],[72,81],[95,81],[78,92],[54,80],[50,50],[61,65],[57,62],[56,55],[65,63],[53,72]];\n",
    "student_scores = whiten(student_scores)\n",
    "centroids,_ = kmeans(student_scores,5)\n",
    "result,_ = vq(student_scores,centroids)\n",
    "print(result,_)"
   ]
  },
  {
   "cell_type": "code",
   "execution_count": 23,
   "metadata": {},
   "outputs": [
    {
     "name": "stdout",
     "output_type": "stream",
     "text": [
      "The PI is 3.1415926535897931\n",
      "The speed of light is c = 299792458.0\n",
      "The newton’s gravity constant is G = 9.8\n"
     ]
    }
   ],
   "source": [
    "import scipy.constants\n",
    "print(\"The PI is %.16f\"%scipy.constants.pi)\n",
    "print(\"The speed of light is c = %.1F\"%scipy.constants.c)\n",
    "print(\"The newton’s gravity constant is G = %.1F\"%scipy.constants.g)"
   ]
  },
  {
   "cell_type": "code",
   "execution_count": 25,
   "metadata": {},
   "outputs": [
    {
     "data": {
      "text/plain": [
       "['atomic mass unit-kilogram relationship',\n",
       " 'electron volt-kilogram relationship',\n",
       " 'hartree-kilogram relationship',\n",
       " 'hertz-kilogram relationship',\n",
       " 'inverse meter-kilogram relationship',\n",
       " 'joule-kilogram relationship',\n",
       " 'kelvin-kilogram relationship',\n",
       " 'kilogram-atomic mass unit relationship',\n",
       " 'kilogram-electron volt relationship',\n",
       " 'kilogram-hartree relationship',\n",
       " 'kilogram-hertz relationship',\n",
       " 'kilogram-inverse meter relationship',\n",
       " 'kilogram-joule relationship',\n",
       " 'kilogram-kelvin relationship']"
      ]
     },
     "execution_count": 25,
     "metadata": {},
     "output_type": "execute_result"
    }
   ],
   "source": [
    "scipy.constants.find(\"gram\")"
   ]
  },
  {
   "cell_type": "code",
   "execution_count": 27,
   "metadata": {},
   "outputs": [
    {
     "name": "stdout",
     "output_type": "stream",
     "text": [
      "(1.66053904e-27, 'kg', 2e-35)\n"
     ]
    }
   ],
   "source": [
    "print(scipy.constants.physical_constants[\"atomic mass unit-kilogram relationship\"])"
   ]
  },
  {
   "cell_type": "code",
   "execution_count": 43,
   "metadata": {},
   "outputs": [
    {
     "name": "stdout",
     "output_type": "stream",
     "text": [
      "Enter a number(kg): 4\n",
      "Energy is  : 359502071494727040.000000 \n"
     ]
    }
   ],
   "source": [
    " m = int(input(\"Enter a number(kg): \"))\n",
    "E = m*pow(scipy.constants.c,2)\n",
    "print(\"Energy is  : %8f \"%E)"
   ]
  },
  {
   "cell_type": "code",
   "execution_count": 4,
   "metadata": {},
   "outputs": [
    {
     "name": "stdout",
     "output_type": "stream",
     "text": [
      "15 21 18.0 4.0\n",
      "DescribeResult(nobs=8, minmax=(15, 21), mean=18.0, variance=4.0, skewness=0.0, kurtosis=-1.0)\n"
     ]
    }
   ],
   "source": [
    "from scipy import stats\n",
    "import numpy as np\n",
    "x = np.array([19,18,21,16,15,17,20,18]);\n",
    "print(stats.tmin(x), stats.tmax(x), stats.tmean(x), stats.tvar(x));\n",
    "print(stats.describe(x));"
   ]
  },
  {
   "cell_type": "code",
   "execution_count": 5,
   "metadata": {},
   "outputs": [
    {
     "name": "stdout",
     "output_type": "stream",
     "text": [
      "61.85\n",
      "12.558389940383952\n",
      "0.011944206280587316\n"
     ]
    }
   ],
   "source": [
    "import scipy.stats\n",
    "import numpy as np\n",
    "student_scores = [[80], [78], [55], [60], [62],\n",
    "[59], [48], [49], [51], [54],\n",
    "[72], [95], [78], [54], [50],\n",
    "[61], [57], [56], [65], [53]];\n",
    "print(stats.tmean(student_scores))\n",
    "print(stats.tstd(student_scores))\n",
    "print((62-stats.tmean(student_scores))/stats.tstd(student_scores))"
   ]
  },
  {
   "cell_type": "code",
   "execution_count": 7,
   "metadata": {},
   "outputs": [
    {
     "name": "stdout",
     "output_type": "stream",
     "text": [
      "[[ 1.48279415]\n",
      " [ 1.31940085]\n",
      " [-0.55962203]\n",
      " [-0.1511388 ]\n",
      " [ 0.0122545 ]\n",
      " [-0.23283544]\n",
      " [-1.13149856]\n",
      " [-1.04980192]\n",
      " [-0.88640862]\n",
      " [-0.64131868]\n",
      " [ 0.82922097]\n",
      " [ 2.70824385]\n",
      " [ 1.31940085]\n",
      " [-0.64131868]\n",
      " [-0.96810527]\n",
      " [-0.06944215]\n",
      " [-0.39622874]\n",
      " [-0.47792539]\n",
      " [ 0.25734444]\n",
      " [-0.72301533]]\n"
     ]
    }
   ],
   "source": [
    "import scipy.stats\n",
    "import numpy as np\n",
    "student_scores = [[80], [78], [55], [60], [62],\n",
    "[59], [48], [49], [51], [54],\n",
    "[72], [95], [78], [54], [50],\n",
    "[61], [57], [56], [65], [53]];\n",
    "print(stats.zscore(student_scores))\n"
   ]
  },
  {
   "cell_type": "code",
   "execution_count": null,
   "metadata": {},
   "outputs": [],
   "source": []
  }
 ],
 "metadata": {
  "kernelspec": {
   "display_name": "Python 3",
   "language": "python",
   "name": "python3"
  },
  "language_info": {
   "codemirror_mode": {
    "name": "ipython",
    "version": 3
   },
   "file_extension": ".py",
   "mimetype": "text/x-python",
   "name": "python",
   "nbconvert_exporter": "python",
   "pygments_lexer": "ipython3",
   "version": "3.6.5"
  }
 },
 "nbformat": 4,
 "nbformat_minor": 2
}
